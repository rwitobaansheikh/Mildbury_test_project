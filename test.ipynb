{
 "cells": [
  {
   "cell_type": "code",
   "execution_count": null,
   "id": "6323185c",
   "metadata": {},
   "outputs": [
    {
     "name": "stderr",
     "output_type": "stream",
     "text": [
      "/usr/local/lib/python3.10/dist-packages/tqdm/auto.py:21: TqdmWarning: IProgress not found. Please update jupyter and ipywidgets. See https://ipywidgets.readthedocs.io/en/stable/user_install.html\n",
      "  from .autonotebook import tqdm as notebook_tqdm\n"
     ]
    }
   ],
   "source": [
    "import torch\n",
    "import torch.nn as nn\n",
    "import torch.optim as optim\n",
    "from torch.utils.data import DataLoader\n",
    "from torchvision import transforms\n",
    "from tqdm import tqdm\n",
    "from torch.utils.data import Dataset, DataLoader\n",
    "#from dataloader import SegmentationDataset\n",
    "from model import UNet\n",
    "import matplotlib.pyplot as plt\n",
    "import numpy as np\n",
    "import os\n",
    "os.environ['CUDA_LAUNCH_BLOCKING'] = \"1\"\n",
    "import csv\n",
    "import time \n",
    "from datetime import datetime\n",
    "from PIL import Image\n",
    "import albumentations as A\n",
    "from albumentations.pytorch import ToTensorV2\n",
    "import torch.nn.functional as F\n",
    "import segmentation_models_pytorch as smp\n",
    "import segmentation_models_pytorch.losses as smp_losses\n",
    "from torch.optim.lr_scheduler import ReduceLROnPlateau, CosineAnnealingLR"
   ]
  },
  {
   "cell_type": "code",
   "execution_count": 2,
   "id": "f87836dd",
   "metadata": {},
   "outputs": [],
   "source": [
    "SEGMENTATION_COLOURS = {0:[0,0,0],1:[255,0,0],2:[0,253,0],3:[0,0,250], 4:[253,255,0]}"
   ]
  },
  {
   "cell_type": "code",
   "execution_count": null,
   "id": "612149de",
   "metadata": {},
   "outputs": [],
   "source": [
    "class DiceLoss(nn.Module):\n",
    "    def __init__(self, num_classes, smooth=1e-6, ignore_index=None):\n",
    "        super(DiceLoss, self).__init__()\n",
    "        self.num_classes = num_classes\n",
    "        self.smooth = smooth\n",
    "        self.ignore_index = ignore_index\n",
    "\n",
    "    def forward(self, logits, targets):\n",
    "        \n",
    "\n",
    "        probas = F.softmax(logits, dim=1)  \n",
    "\n",
    "        # Convert targets to one-hot encoding\n",
    "        targets_one_hot = F.one_hot(targets, num_classes=self.num_classes)\n",
    "        targets_one_hot = targets_one_hot.permute(0, 3, 1, 2).float()  \n",
    "\n",
    "        dims_to_sum = (0, 2, 3) \n",
    "\n",
    "        intersection = torch.sum(probas * targets_one_hot, dims_to_sum) \n",
    "        cardinality = torch.sum(probas + targets_one_hot, dims_to_sum)  \n",
    "\n",
    "        dice_score_per_class = (2. * intersection + self.smooth) / (cardinality + self.smooth)  \n",
    "\n",
    "        if self.ignore_index is not None:\n",
    "            class_mask = torch.ones(self.num_classes, device=logits.device, dtype=torch.bool)\n",
    "            if isinstance(self.ignore_index, int):\n",
    "                class_mask[self.ignore_index] = False\n",
    "            elif isinstance(self.ignore_index, (list, tuple)):\n",
    "                for idx_to_ignore in self.ignore_index:\n",
    "                    class_mask[idx_to_ignore] = False\n",
    "            dice_score_per_class = dice_score_per_class[class_mask]\n",
    "            if dice_score_per_class.numel() == 0: # All classes ignored\n",
    "                return torch.tensor(0.0, device=logits.device, requires_grad=True)\n",
    "        \n",
    "        dice_loss = 1. - dice_score_per_class.mean()\n",
    "        return dice_loss\n"
   ]
  },
  {
   "cell_type": "code",
   "execution_count": 4,
   "id": "2c89fc38",
   "metadata": {},
   "outputs": [],
   "source": [
    "def calculate_iou(pred_mask, target_mask, num_classes=5):\n",
    "    ious = []\n",
    "    \n",
    "    if torch.is_tensor(pred_mask):\n",
    "        pred_mask = pred_mask.cpu().numpy()\n",
    "    if torch.is_tensor(target_mask):\n",
    "        target_mask = target_mask.cpu().numpy()\n",
    "    \n",
    "    for cls in range(num_classes):\n",
    "        pred_inds = pred_mask == cls\n",
    "        target_inds = target_mask == cls\n",
    "        \n",
    "        intersection = np.logical_and(pred_inds, target_inds).sum()\n",
    "        union = np.logical_or(pred_inds, target_inds).sum()\n",
    "        \n",
    "        iou = intersection / (union + 1e-6)  \n",
    "        ious.append(iou)\n",
    "    \n",
    "    return np.mean(ious)"
   ]
  },
  {
   "cell_type": "code",
   "execution_count": null,
   "id": "44275dee",
   "metadata": {},
   "outputs": [],
   "source": [
    "class SegmentationDataset(Dataset):\n",
    "    def __init__(self, root_dir, transform=None, target_size=(256, 256)):\n",
    "        \n",
    "        self.root_dir = root_dir\n",
    "        self.transform = transform # This will be an albumentations pipeline\n",
    "        self.target_size = target_size\n",
    "\n",
    "        self.image_dir = os.path.join(root_dir, 'Images')\n",
    "        self.mask_dir = os.path.join(root_dir, 'Labels')\n",
    "        \n",
    "        self.image_files = sorted([f for f in os.listdir(self.image_dir) \n",
    "                                 if f.endswith(('.png', '.jpg', '.jpeg'))])\n",
    "\n",
    "    def __len__(self):\n",
    "        return len(self.image_files)\n",
    "\n",
    "    def __getitem__(self, idx):\n",
    "        img_name = os.path.join(self.image_dir, self.image_files[idx])\n",
    "        base_name = os.path.splitext(self.image_files[idx])[0]\n",
    "        mask_name = os.path.join(self.mask_dir, f\"{base_name}_mask.png\")\n",
    "        \n",
    "        # Load image and mask as PIL objects\n",
    "        image_pil = Image.open(img_name).convert('RGB')\n",
    "        mask_pil = Image.open(mask_name).convert('RGB')\n",
    "        \n",
    "        image_pil_resized = image_pil.resize(self.target_size, Image.LANCZOS) \n",
    "        mask_pil_resized = mask_pil.resize(self.target_size, Image.NEAREST)  \n",
    "\n",
    "        # Convert resized PIL mask to NumPy array for color mapping\n",
    "        mask_rgb_np = np.array(mask_pil_resized)\n",
    "        class_mask_np = np.zeros((mask_rgb_np.shape[0], mask_rgb_np.shape[1]), dtype=np.uint8)\n",
    "        \n",
    "        # Map colors to class indices\n",
    "        for class_idx, color in SEGMENTATION_COLOURS.items(): \n",
    "            matches = np.all(mask_rgb_np == np.array(color), axis=-1)\n",
    "            class_mask_np[matches] = class_idx\n",
    "        \n",
    "        # Convert resized PIL image to NumPy array for albumentations\n",
    "        image_np = np.array(image_pil_resized)\n",
    "        \n",
    "        if self.transform: # self.transform is the albumentations pipeline\n",
    "            augmented = self.transform(image=image_np, mask=class_mask_np)\n",
    "            image_tensor = augmented['image'] # ToTensorV2 handles conversion and channel order\n",
    "            mask_tensor = augmented['mask'].long() # Mask should be LongTensor\n",
    "        else:\n",
    "            # Fallback if no albumentations transform is provided\n",
    "            image_tensor = transforms.ToTensor()(image_np) # Handles HWC to CHW\n",
    "            mask_tensor = torch.from_numpy(class_mask_np).long()\n",
    "            \n",
    "        return image_tensor, mask_tensor\n"
   ]
  },
  {
   "cell_type": "code",
   "execution_count": 6,
   "id": "aa322a9f",
   "metadata": {},
   "outputs": [],
   "source": [
    "# class SegmentationDataset(Dataset):\n",
    "#     def __init__(self, root_dir, transform=None):\n",
    "        \n",
    "#         self.root_dir = root_dir\n",
    "#         self.transform = transform\n",
    "\n",
    "#         self.image_dir = os.path.join(root_dir, 'Images')\n",
    "#         self.mask_dir = os.path.join(root_dir, 'Labels')\n",
    "        \n",
    "#         self.image_files = sorted([f for f in os.listdir(self.image_dir) \n",
    "#                                  if f.endswith(('.png', '.jpg', '.jpeg'))])\n",
    "        \n",
    "#         for img in self.image_files:\n",
    "#             base_name = os.path.splitext(img)[0]\n",
    "#             mask_name = f\"{base_name}_mask.png\"\n",
    "#             mask_path = os.path.join(self.mask_dir, mask_name)\n",
    "\n",
    "\n",
    "#     def __len__(self):\n",
    "#         return len(self.image_files)\n",
    "\n",
    "#     def __getitem__(self, idx):\n",
    "#         img_name = os.path.join(self.image_dir, self.image_files[idx])\n",
    "#         base_name = os.path.splitext(self.image_files[idx])[0]\n",
    "#         mask_name = os.path.join(self.mask_dir, f\"{base_name}_mask.png\")\n",
    "        \n",
    "#         # Load image and mask\n",
    "#         image = Image.open(img_name).convert('RGB')\n",
    "#         mask = Image.open(mask_name).convert('RGB')  # Keep as RGB for color mapping\n",
    "        \n",
    "#         if self.transform:\n",
    "#             image = self.transform(image)\n",
    "#             mask = self.transform_mask(mask)\n",
    "        \n",
    "#         # Convert RGB mask to class indices\n",
    "#         mask_np = np.array(mask)\n",
    "#         class_mask = np.zeros((mask_np.shape[0], mask_np.shape[1]), dtype=np.uint8)\n",
    "        \n",
    "#         # Map colors to class indices\n",
    "#         for class_idx, color in SEGMENTATION_COLOURS.items():\n",
    "#             # Find all pixels that match this color\n",
    "#             matches = np.all(mask_np == np.array(color), axis=-1)\n",
    "#             class_mask[matches] = class_idx\n",
    "        \n",
    "#         return image, torch.from_numpy(class_mask).long()\n",
    "    \n",
    "#     def transform_mask(self, mask):\n",
    "#         \"\"\"Apply only the spatial transforms to the mask (resize)\"\"\"\n",
    "#         if self.transform is None:\n",
    "#             return np.array(mask)\n",
    "        \n",
    "#         # Get the resize transform if it exists\n",
    "#         for t in self.transform.transforms:\n",
    "#             if isinstance(t, transforms.Resize):\n",
    "#                 mask = t(mask)\n",
    "#                 break\n",
    "        \n",
    "#         return np.array(mask)"
   ]
  },
  {
   "cell_type": "code",
   "execution_count": 7,
   "id": "b9c71659",
   "metadata": {},
   "outputs": [],
   "source": [
    "def print_latest_metrics_table():\n",
    "    metrics_dir = 'metrics'\n",
    "    try:\n",
    "        if not os.path.isdir(metrics_dir):\n",
    "            print(f\"Metrics directory '{metrics_dir}' not found. Run training first.\")\n",
    "            return\n",
    "\n",
    "        all_files = [\n",
    "            os.path.join(metrics_dir, f)\n",
    "            for f in os.listdir(metrics_dir)\n",
    "            if os.path.isfile(os.path.join(metrics_dir, f)) and\n",
    "               f.startswith('training_metrics_') and f.endswith('.csv')\n",
    "        ]\n",
    "        if not all_files:\n",
    "            print(f\"No 'training_metrics_*.csv' files found in the '{metrics_dir}' directory.\")\n",
    "            return\n",
    "\n",
    "        latest_file = max(all_files, key=os.path.getmtime)\n",
    "        print(f\"\\n--- Training Metrics Summary from: {os.path.basename(latest_file)} ---\")\n",
    "\n",
    "        with open(latest_file, 'r', newline='') as f:\n",
    "            reader = csv.reader(f)\n",
    "            try:\n",
    "                header = next(reader) # Read header row\n",
    "                # Expected header: ['Epoch', 'Train Loss', 'Val Loss', 'Mean IoU', 'Time (s)']\n",
    "                print(f\"{'Epoch':<7} | {'Train Loss':<12} | {'Val Loss':<10} | {'Mean IoU':<10} | {'Time (s)':<10}\")\n",
    "                print(\"-\" * 60) # Separator line\n",
    "\n",
    "                for i, row in enumerate(reader):\n",
    "                    if len(row) == 5:\n",
    "                        try:\n",
    "                            epoch = row[0]\n",
    "                            train_loss = float(row[1])\n",
    "                            val_loss = float(row[2])\n",
    "                            mean_iou = float(row[3])\n",
    "                            time_s = float(row[4])\n",
    "                            print(f\"{epoch:<7} | {train_loss:<12.4f} | {val_loss:<10.4f} | {mean_iou:<10.4f} | {time_s:<10.2f}\")\n",
    "                        except ValueError:\n",
    "                            print(f\"Warning: Could not parse row {i+1} in {os.path.basename(latest_file)}: {row}\")\n",
    "                    else:\n",
    "                        print(f\"Warning: Skipping malformed row {i+1} in {os.path.basename(latest_file)} (expected 5 columns): {row}\")\n",
    "            except StopIteration:\n",
    "                print(f\"Warning: The metrics file {os.path.basename(latest_file)} is empty or has no data rows.\")\n",
    "\n",
    "    except FileNotFoundError:\n",
    "        print(f\"Error: The directory '{metrics_dir}' or a specific metrics file was not found. Ensure training has run.\")\n",
    "    except Exception as e:\n",
    "        print(f\"An error occurred while trying to print metrics: {e}\")"
   ]
  },
  {
   "cell_type": "code",
   "execution_count": null,
   "id": "6ea79e28",
   "metadata": {},
   "outputs": [],
   "source": [
    "def train_model(model, train_loader, val_loader, ce_criterion, dice_criterion, optimizer, num_epochs, device, loss_weights=(0.5, 0.5), scheduler=None):\n",
    "    \"\"\"\n",
    "    Trains the model using a combined loss of CrossEntropy and Dice.\n",
    "    ce_criterion: Instance of nn.CrossEntropyLoss\n",
    "    dice_criterion: Instance of DiceLoss\n",
    "    loss_weights: Tuple (ce_weight, dice_weight)\n",
    "    scheduler: Optional learning rate scheduler\n",
    "    \"\"\"\n",
    "    best_val_loss = float('inf')\n",
    "    \n",
    "    metrics_dir = 'metrics'\n",
    "    os.makedirs(metrics_dir, exist_ok=True)\n",
    "    \n",
    "    timestamp = datetime.now().strftime('%Y%m%d_%H%M%S')\n",
    "    metrics_file = os.path.join(metrics_dir, f'training_metrics_{timestamp}.csv')\n",
    "    \n",
    "    with open(metrics_file, 'w', newline='') as f:\n",
    "        writer = csv.writer(f)\n",
    "        writer.writerow(['Epoch', 'Train Loss', 'Val Loss', 'Mean IoU', 'Time (s)'])\n",
    "    \n",
    "    for epoch in range(num_epochs):\n",
    "        epoch_start_time = time.time()\n",
    "        model.train()\n",
    "        train_loss = 0\n",
    "        train_bar = tqdm(train_loader, desc=f'Epoch {epoch+1}/{num_epochs}')\n",
    "        \n",
    "        for images, masks in train_bar:\n",
    "            images = images.to(device)\n",
    "            masks = masks.to(device)\n",
    "            \n",
    "            optimizer.zero_grad()\n",
    "            outputs = model(images)\n",
    "            \n",
    "            loss_ce = ce_criterion(outputs, masks)\n",
    "            loss_dice = dice_criterion(outputs, masks)\n",
    "            loss = loss_weights[0] * loss_ce + loss_weights[1] * loss_dice\n",
    "            \n",
    "            loss.backward()\n",
    "            optimizer.step()\n",
    "            \n",
    "            train_loss += loss.item()\n",
    "            train_bar.set_postfix({'loss': train_loss / (train_bar.n + 1)}) # More accurate running loss\n",
    "        \n",
    "        avg_train_loss = train_loss / len(train_loader)\n",
    "        \n",
    "        model.eval()\n",
    "        val_loss = 0\n",
    "        all_preds = []\n",
    "        all_targets = []\n",
    "        \n",
    "        with torch.no_grad():\n",
    "            for images, masks in val_loader:\n",
    "                images = images.to(device)\n",
    "                masks = masks.to(device)\n",
    "                outputs = model(images)\n",
    "\n",
    "                loss_ce_val = ce_criterion(outputs, masks)\n",
    "                loss_dice_val = dice_criterion(outputs, masks)\n",
    "                loss = loss_weights[0] * loss_ce_val + loss_weights[1] * loss_dice_val\n",
    "                \n",
    "                val_loss += loss.item()\n",
    "                \n",
    "                predictions = torch.argmax(outputs, dim=1)\n",
    "                all_preds.append(predictions.cpu().numpy())\n",
    "                all_targets.append(masks.cpu().numpy())\n",
    "        \n",
    "        avg_val_loss = val_loss / len(val_loader)\n",
    "        \n",
    "        all_preds = np.concatenate(all_preds, axis=0)\n",
    "        all_targets = np.concatenate(all_targets, axis=0)\n",
    "        \n",
    "        # Determine num_classes for IoU calculation\n",
    "        num_iou_classes = 5 # Default based on SEGMENTATION_COLOURS\n",
    "        if hasattr(model, 'n_classes') and model.n_classes is not None: # For your custom UNet if it had this attr\n",
    "            num_iou_classes = model.n_classes\n",
    "        elif hasattr(model, 'segmentation_head') and hasattr(model.segmentation_head[0], 'out_channels'): # For SMP models\n",
    "            num_iou_classes = model.segmentation_head[0].out_channels\n",
    "        \n",
    "        mean_iou = calculate_iou(all_preds, all_targets, num_classes=num_iou_classes)\n",
    "        \n",
    "        epoch_time = time.time() - epoch_start_time        \n",
    "        with open(metrics_file, 'a', newline='') as f:\n",
    "            writer = csv.writer(f)\n",
    "            writer.writerow([epoch+1, avg_train_loss, avg_val_loss, mean_iou, epoch_time])\n",
    "        \n",
    "        print(f'Epoch {epoch+1}/{num_epochs}:')\n",
    "        print(f'  Train Loss: {avg_train_loss:.4f}')\n",
    "        print(f'  Val Loss: {avg_val_loss:.4f}')\n",
    "        print(f'  Mean IoU: {mean_iou:.4f}')\n",
    "        print(f'  Time: {epoch_time:.2f}s')\n",
    "        \n",
    "        if avg_val_loss < best_val_loss:\n",
    "            best_val_loss = avg_val_loss\n",
    "            torch.save(model.state_dict(), 'best_model.pth')\n",
    "            print('Model saved!')\n",
    "        \n",
    "        if scheduler:\n",
    "            if isinstance(scheduler, torch.optim.lr_scheduler.ReduceLROnPlateau):\n",
    "                scheduler.step(avg_val_loss) \n",
    "            else:\n",
    "                scheduler.step() \n"
   ]
  },
  {
   "cell_type": "code",
   "execution_count": 9,
   "id": "12b2d540",
   "metadata": {},
   "outputs": [],
   "source": [
    "# def train_model(model, train_loader, val_loader, criterion, optimizer, num_epochs, device):\n",
    "#     best_val_loss = float('inf')\n",
    "    \n",
    "#     metrics_dir = 'metrics'\n",
    "#     os.makedirs(metrics_dir, exist_ok=True)\n",
    "    \n",
    "#     timestamp = datetime.now().strftime('%Y%m%d_%H%M%S')\n",
    "#     metrics_file = os.path.join(metrics_dir, f'training_metrics_{timestamp}.csv')\n",
    "    \n",
    "#     with open(metrics_file, 'w', newline='') as f:\n",
    "#         writer = csv.writer(f)\n",
    "#         writer.writerow(['Epoch', 'Train Loss', 'Val Loss', 'Mean IoU', 'Time (s)'])\n",
    "    \n",
    "#     for epoch in range(num_epochs):\n",
    "#         epoch_start_time = time.time()\n",
    "#         model.train()\n",
    "#         train_loss = 0\n",
    "#         train_bar = tqdm(train_loader, desc=f'Epoch {epoch+1}/{num_epochs}')\n",
    "        \n",
    "#         for images, masks in train_bar:\n",
    "#             images = images.to(device)\n",
    "#             masks = masks.to(device)\n",
    "            \n",
    "#             optimizer.zero_grad()\n",
    "#             outputs = model(images)\n",
    "#             loss = criterion(outputs, masks)\n",
    "#             loss.backward()\n",
    "#             optimizer.step()\n",
    "            \n",
    "#             train_loss += loss.item()\n",
    "#             train_bar.set_postfix({'loss': train_loss / len(train_loader)})\n",
    "        \n",
    "#         avg_train_loss = train_loss / len(train_loader)\n",
    "        \n",
    "#         model.eval()\n",
    "#         val_loss = 0\n",
    "#         all_preds = []\n",
    "#         all_targets = []\n",
    "        \n",
    "#         with torch.no_grad():\n",
    "#             for images, masks in val_loader:\n",
    "#                 images = images.to(device)\n",
    "#                 masks = masks.to(device)\n",
    "#                 outputs = model(images)\n",
    "#                 loss = criterion(outputs, masks)\n",
    "#                 val_loss += loss.item()\n",
    "                \n",
    "#                 predictions = torch.argmax(outputs, dim=1)\n",
    "#                 all_preds.append(predictions.cpu().numpy())\n",
    "#                 all_targets.append(masks.cpu().numpy())\n",
    "        \n",
    "#         avg_val_loss = val_loss / len(val_loader)\n",
    "        \n",
    "#         all_preds = np.concatenate(all_preds, axis=0)\n",
    "#         all_targets = np.concatenate(all_targets, axis=0)\n",
    "#         mean_iou = calculate_iou(all_preds, all_targets)\n",
    "        \n",
    "#         epoch_time = time.time() - epoch_start_time        \n",
    "#         with open(metrics_file, 'a', newline='') as f:\n",
    "#             writer = csv.writer(f)\n",
    "#             writer.writerow([epoch+1, avg_train_loss, avg_val_loss, mean_iou, epoch_time])\n",
    "        \n",
    "#         print(f'Epoch {epoch+1}/{num_epochs}:')\n",
    "#         print(f'  Train Loss: {avg_train_loss:.4f}')\n",
    "#         print(f'  Val Loss: {avg_val_loss:.4f}')\n",
    "#         print(f'  Mean IoU: {mean_iou:.4f}')\n",
    "#         print(f'  Time: {epoch_time:.2f}s')\n",
    "        \n",
    "#         if avg_val_loss < best_val_loss:\n",
    "#             best_val_loss = avg_val_loss\n",
    "#             torch.save(model.state_dict(), 'best_model.pth')\n",
    "#             print('Model saved!')\n"
   ]
  },
  {
   "cell_type": "code",
   "execution_count": null,
   "id": "764524f3",
   "metadata": {},
   "outputs": [
    {
     "name": "stdout",
     "output_type": "stream",
     "text": [
      "Using device: cuda\n",
      "Using model: DeepLabV3+ with efficientnet-b5 backbone\n"
     ]
    },
    {
     "name": "stderr",
     "output_type": "stream",
     "text": [
      "Epoch 1/120: 100%|██████████| 14/14 [00:07<00:00,  1.99it/s, loss=1.11]\n"
     ]
    },
    {
     "name": "stdout",
     "output_type": "stream",
     "text": [
      "Epoch 1/120:\n",
      "  Train Loss: 1.1073\n",
      "  Val Loss: 0.9896\n",
      "  Mean IoU: 0.0044\n",
      "  Time: 7.67s\n",
      "Model saved!\n"
     ]
    },
    {
     "name": "stderr",
     "output_type": "stream",
     "text": [
      "Epoch 2/120: 100%|██████████| 14/14 [00:05<00:00,  2.41it/s, loss=1.01]\n"
     ]
    },
    {
     "name": "stdout",
     "output_type": "stream",
     "text": [
      "Epoch 2/120:\n",
      "  Train Loss: 1.0058\n",
      "  Val Loss: 1.0309\n",
      "  Mean IoU: 0.0060\n",
      "  Time: 6.35s\n"
     ]
    },
    {
     "name": "stderr",
     "output_type": "stream",
     "text": [
      "Epoch 3/120: 100%|██████████| 14/14 [00:05<00:00,  2.45it/s, loss=0.92] \n"
     ]
    },
    {
     "name": "stdout",
     "output_type": "stream",
     "text": [
      "Epoch 3/120:\n",
      "  Train Loss: 0.9196\n",
      "  Val Loss: 1.0113\n",
      "  Mean IoU: 0.0354\n",
      "  Time: 6.28s\n"
     ]
    },
    {
     "name": "stderr",
     "output_type": "stream",
     "text": [
      "Epoch 4/120: 100%|██████████| 14/14 [00:05<00:00,  2.46it/s, loss=0.845]\n"
     ]
    },
    {
     "name": "stdout",
     "output_type": "stream",
     "text": [
      "Epoch 4/120:\n",
      "  Train Loss: 0.8454\n",
      "  Val Loss: 0.9425\n",
      "  Mean IoU: 0.0748\n",
      "  Time: 6.22s\n",
      "Model saved!\n"
     ]
    },
    {
     "name": "stderr",
     "output_type": "stream",
     "text": [
      "Epoch 5/120: 100%|██████████| 14/14 [00:05<00:00,  2.43it/s, loss=0.778]\n"
     ]
    },
    {
     "name": "stdout",
     "output_type": "stream",
     "text": [
      "Epoch 5/120:\n",
      "  Train Loss: 0.7784\n",
      "  Val Loss: 0.8509\n",
      "  Mean IoU: 0.1274\n",
      "  Time: 6.29s\n",
      "Model saved!\n"
     ]
    },
    {
     "name": "stderr",
     "output_type": "stream",
     "text": [
      "Epoch 6/120: 100%|██████████| 14/14 [00:05<00:00,  2.42it/s, loss=0.709]\n"
     ]
    },
    {
     "name": "stdout",
     "output_type": "stream",
     "text": [
      "Epoch 6/120:\n",
      "  Train Loss: 0.7092\n",
      "  Val Loss: 0.7766\n",
      "  Mean IoU: 0.1847\n",
      "  Time: 6.33s\n",
      "Model saved!\n"
     ]
    },
    {
     "name": "stderr",
     "output_type": "stream",
     "text": [
      "Epoch 7/120: 100%|██████████| 14/14 [00:05<00:00,  2.43it/s, loss=0.644]\n"
     ]
    },
    {
     "name": "stdout",
     "output_type": "stream",
     "text": [
      "Epoch 7/120:\n",
      "  Train Loss: 0.6438\n",
      "  Val Loss: 0.7383\n",
      "  Mean IoU: 0.2212\n",
      "  Time: 6.35s\n",
      "Model saved!\n"
     ]
    },
    {
     "name": "stderr",
     "output_type": "stream",
     "text": [
      "Epoch 8/120: 100%|██████████| 14/14 [00:05<00:00,  2.38it/s, loss=0.581]\n"
     ]
    },
    {
     "name": "stdout",
     "output_type": "stream",
     "text": [
      "Epoch 8/120:\n",
      "  Train Loss: 0.5809\n",
      "  Val Loss: 0.6827\n",
      "  Mean IoU: 0.2425\n",
      "  Time: 6.49s\n",
      "Model saved!\n"
     ]
    },
    {
     "name": "stderr",
     "output_type": "stream",
     "text": [
      "Epoch 9/120: 100%|██████████| 14/14 [00:05<00:00,  2.36it/s, loss=0.544]\n"
     ]
    },
    {
     "name": "stdout",
     "output_type": "stream",
     "text": [
      "Epoch 9/120:\n",
      "  Train Loss: 0.5436\n",
      "  Val Loss: 0.6610\n",
      "  Mean IoU: 0.2479\n",
      "  Time: 6.50s\n",
      "Model saved!\n"
     ]
    },
    {
     "name": "stderr",
     "output_type": "stream",
     "text": [
      "Epoch 10/120: 100%|██████████| 14/14 [00:06<00:00,  2.33it/s, loss=0.506]\n"
     ]
    },
    {
     "name": "stdout",
     "output_type": "stream",
     "text": [
      "Epoch 10/120:\n",
      "  Train Loss: 0.5058\n",
      "  Val Loss: 0.6371\n",
      "  Mean IoU: 0.2585\n",
      "  Time: 6.57s\n",
      "Model saved!\n"
     ]
    },
    {
     "name": "stderr",
     "output_type": "stream",
     "text": [
      "Epoch 11/120: 100%|██████████| 14/14 [00:05<00:00,  2.36it/s, loss=0.476]\n"
     ]
    },
    {
     "name": "stdout",
     "output_type": "stream",
     "text": [
      "Epoch 11/120:\n",
      "  Train Loss: 0.4762\n",
      "  Val Loss: 0.5876\n",
      "  Mean IoU: 0.2624\n",
      "  Time: 6.49s\n",
      "Model saved!\n"
     ]
    },
    {
     "name": "stderr",
     "output_type": "stream",
     "text": [
      "Epoch 12/120: 100%|██████████| 14/14 [00:05<00:00,  2.45it/s, loss=0.457]\n"
     ]
    },
    {
     "name": "stdout",
     "output_type": "stream",
     "text": [
      "Epoch 12/120:\n",
      "  Train Loss: 0.4572\n",
      "  Val Loss: 0.5555\n",
      "  Mean IoU: 0.2664\n",
      "  Time: 6.24s\n",
      "Model saved!\n"
     ]
    },
    {
     "name": "stderr",
     "output_type": "stream",
     "text": [
      "Epoch 13/120: 100%|██████████| 14/14 [00:05<00:00,  2.43it/s, loss=0.443]\n"
     ]
    },
    {
     "name": "stdout",
     "output_type": "stream",
     "text": [
      "Epoch 13/120:\n",
      "  Train Loss: 0.4431\n",
      "  Val Loss: 0.5226\n",
      "  Mean IoU: 0.2706\n",
      "  Time: 6.28s\n",
      "Model saved!\n"
     ]
    },
    {
     "name": "stderr",
     "output_type": "stream",
     "text": [
      "Epoch 14/120: 100%|██████████| 14/14 [00:05<00:00,  2.44it/s, loss=0.424]\n"
     ]
    },
    {
     "name": "stdout",
     "output_type": "stream",
     "text": [
      "Epoch 14/120:\n",
      "  Train Loss: 0.4241\n",
      "  Val Loss: 0.5043\n",
      "  Mean IoU: 0.2731\n",
      "  Time: 6.29s\n",
      "Model saved!\n"
     ]
    },
    {
     "name": "stderr",
     "output_type": "stream",
     "text": [
      "Epoch 15/120: 100%|██████████| 14/14 [00:05<00:00,  2.43it/s, loss=0.411]\n"
     ]
    },
    {
     "name": "stdout",
     "output_type": "stream",
     "text": [
      "Epoch 15/120:\n",
      "  Train Loss: 0.4114\n",
      "  Val Loss: 0.4840\n",
      "  Mean IoU: 0.2748\n",
      "  Time: 6.30s\n",
      "Model saved!\n"
     ]
    },
    {
     "name": "stderr",
     "output_type": "stream",
     "text": [
      "Epoch 16/120: 100%|██████████| 14/14 [00:05<00:00,  2.41it/s, loss=0.405]\n"
     ]
    },
    {
     "name": "stdout",
     "output_type": "stream",
     "text": [
      "Epoch 16/120:\n",
      "  Train Loss: 0.4048\n",
      "  Val Loss: 0.4678\n",
      "  Mean IoU: 0.2759\n",
      "  Time: 6.39s\n",
      "Model saved!\n"
     ]
    },
    {
     "name": "stderr",
     "output_type": "stream",
     "text": [
      "Epoch 17/120: 100%|██████████| 14/14 [00:05<00:00,  2.38it/s, loss=0.398]\n"
     ]
    },
    {
     "name": "stdout",
     "output_type": "stream",
     "text": [
      "Epoch 17/120:\n",
      "  Train Loss: 0.3975\n",
      "  Val Loss: 0.4689\n",
      "  Mean IoU: 0.2754\n",
      "  Time: 6.45s\n"
     ]
    },
    {
     "name": "stderr",
     "output_type": "stream",
     "text": [
      "Epoch 18/120: 100%|██████████| 14/14 [00:05<00:00,  2.35it/s, loss=0.385]\n"
     ]
    },
    {
     "name": "stdout",
     "output_type": "stream",
     "text": [
      "Epoch 18/120:\n",
      "  Train Loss: 0.3849\n",
      "  Val Loss: 0.4302\n",
      "  Mean IoU: 0.2769\n",
      "  Time: 6.51s\n",
      "Model saved!\n"
     ]
    },
    {
     "name": "stderr",
     "output_type": "stream",
     "text": [
      "Epoch 19/120: 100%|██████████| 14/14 [00:05<00:00,  2.37it/s, loss=0.378]\n"
     ]
    },
    {
     "name": "stdout",
     "output_type": "stream",
     "text": [
      "Epoch 19/120:\n",
      "  Train Loss: 0.3776\n",
      "  Val Loss: 0.4198\n",
      "  Mean IoU: 0.2795\n",
      "  Time: 6.51s\n",
      "Model saved!\n"
     ]
    },
    {
     "name": "stderr",
     "output_type": "stream",
     "text": [
      "Epoch 20/120: 100%|██████████| 14/14 [00:05<00:00,  2.43it/s, loss=0.368]\n"
     ]
    },
    {
     "name": "stdout",
     "output_type": "stream",
     "text": [
      "Epoch 20/120:\n",
      "  Train Loss: 0.3681\n",
      "  Val Loss: 0.4094\n",
      "  Mean IoU: 0.2792\n",
      "  Time: 6.32s\n",
      "Model saved!\n"
     ]
    },
    {
     "name": "stderr",
     "output_type": "stream",
     "text": [
      "Epoch 21/120: 100%|██████████| 14/14 [00:05<00:00,  2.39it/s, loss=0.364]\n"
     ]
    },
    {
     "name": "stdout",
     "output_type": "stream",
     "text": [
      "Epoch 21/120:\n",
      "  Train Loss: 0.3644\n",
      "  Val Loss: 0.4042\n",
      "  Mean IoU: 0.2827\n",
      "  Time: 6.44s\n",
      "Model saved!\n"
     ]
    },
    {
     "name": "stderr",
     "output_type": "stream",
     "text": [
      "Epoch 22/120: 100%|██████████| 14/14 [00:05<00:00,  2.35it/s, loss=0.358]\n"
     ]
    },
    {
     "name": "stdout",
     "output_type": "stream",
     "text": [
      "Epoch 22/120:\n",
      "  Train Loss: 0.3576\n",
      "  Val Loss: 0.3979\n",
      "  Mean IoU: 0.2807\n",
      "  Time: 6.54s\n",
      "Model saved!\n"
     ]
    },
    {
     "name": "stderr",
     "output_type": "stream",
     "text": [
      "Epoch 23/120: 100%|██████████| 14/14 [00:05<00:00,  2.37it/s, loss=0.353]\n"
     ]
    },
    {
     "name": "stdout",
     "output_type": "stream",
     "text": [
      "Epoch 23/120:\n",
      "  Train Loss: 0.3528\n",
      "  Val Loss: 0.3886\n",
      "  Mean IoU: 0.2822\n",
      "  Time: 6.43s\n",
      "Model saved!\n"
     ]
    },
    {
     "name": "stderr",
     "output_type": "stream",
     "text": [
      "Epoch 24/120: 100%|██████████| 14/14 [00:05<00:00,  2.40it/s, loss=0.349]\n"
     ]
    },
    {
     "name": "stdout",
     "output_type": "stream",
     "text": [
      "Epoch 24/120:\n",
      "  Train Loss: 0.3488\n",
      "  Val Loss: 0.3842\n",
      "  Mean IoU: 0.2835\n",
      "  Time: 6.40s\n",
      "Model saved!\n"
     ]
    },
    {
     "name": "stderr",
     "output_type": "stream",
     "text": [
      "Epoch 25/120: 100%|██████████| 14/14 [00:05<00:00,  2.39it/s, loss=0.343]\n"
     ]
    },
    {
     "name": "stdout",
     "output_type": "stream",
     "text": [
      "Epoch 25/120:\n",
      "  Train Loss: 0.3431\n",
      "  Val Loss: 0.3800\n",
      "  Mean IoU: 0.2801\n",
      "  Time: 6.41s\n",
      "Model saved!\n"
     ]
    },
    {
     "name": "stderr",
     "output_type": "stream",
     "text": [
      "Epoch 26/120: 100%|██████████| 14/14 [00:05<00:00,  2.42it/s, loss=0.338]\n"
     ]
    },
    {
     "name": "stdout",
     "output_type": "stream",
     "text": [
      "Epoch 26/120:\n",
      "  Train Loss: 0.3383\n",
      "  Val Loss: 0.3707\n",
      "  Mean IoU: 0.2887\n",
      "  Time: 6.31s\n",
      "Model saved!\n"
     ]
    },
    {
     "name": "stderr",
     "output_type": "stream",
     "text": [
      "Epoch 27/120: 100%|██████████| 14/14 [00:05<00:00,  2.41it/s, loss=0.335]\n"
     ]
    },
    {
     "name": "stdout",
     "output_type": "stream",
     "text": [
      "Epoch 27/120:\n",
      "  Train Loss: 0.3347\n",
      "  Val Loss: 0.3624\n",
      "  Mean IoU: 0.2904\n",
      "  Time: 6.34s\n",
      "Model saved!\n"
     ]
    },
    {
     "name": "stderr",
     "output_type": "stream",
     "text": [
      "Epoch 28/120: 100%|██████████| 14/14 [00:05<00:00,  2.48it/s, loss=0.333]\n"
     ]
    },
    {
     "name": "stdout",
     "output_type": "stream",
     "text": [
      "Epoch 28/120:\n",
      "  Train Loss: 0.3328\n",
      "  Val Loss: 0.3595\n",
      "  Mean IoU: 0.2879\n",
      "  Time: 6.17s\n",
      "Model saved!\n"
     ]
    },
    {
     "name": "stderr",
     "output_type": "stream",
     "text": [
      "Epoch 29/120: 100%|██████████| 14/14 [00:05<00:00,  2.48it/s, loss=0.327]\n"
     ]
    },
    {
     "name": "stdout",
     "output_type": "stream",
     "text": [
      "Epoch 29/120:\n",
      "  Train Loss: 0.3274\n",
      "  Val Loss: 0.3509\n",
      "  Mean IoU: 0.2904\n",
      "  Time: 6.26s\n",
      "Model saved!\n"
     ]
    },
    {
     "name": "stderr",
     "output_type": "stream",
     "text": [
      "Epoch 30/120: 100%|██████████| 14/14 [00:05<00:00,  2.40it/s, loss=0.326]\n"
     ]
    },
    {
     "name": "stdout",
     "output_type": "stream",
     "text": [
      "Epoch 30/120:\n",
      "  Train Loss: 0.3255\n",
      "  Val Loss: 0.3476\n",
      "  Mean IoU: 0.2904\n",
      "  Time: 6.45s\n",
      "Model saved!\n"
     ]
    },
    {
     "name": "stderr",
     "output_type": "stream",
     "text": [
      "Epoch 31/120: 100%|██████████| 14/14 [00:05<00:00,  2.43it/s, loss=0.321]\n"
     ]
    },
    {
     "name": "stdout",
     "output_type": "stream",
     "text": [
      "Epoch 31/120:\n",
      "  Train Loss: 0.3210\n",
      "  Val Loss: 0.3437\n",
      "  Mean IoU: 0.2917\n",
      "  Time: 6.30s\n",
      "Model saved!\n"
     ]
    },
    {
     "name": "stderr",
     "output_type": "stream",
     "text": [
      "Epoch 32/120: 100%|██████████| 14/14 [00:05<00:00,  2.40it/s, loss=0.318]\n"
     ]
    },
    {
     "name": "stdout",
     "output_type": "stream",
     "text": [
      "Epoch 32/120:\n",
      "  Train Loss: 0.3178\n",
      "  Val Loss: 0.3415\n",
      "  Mean IoU: 0.2927\n",
      "  Time: 6.38s\n",
      "Model saved!\n"
     ]
    },
    {
     "name": "stderr",
     "output_type": "stream",
     "text": [
      "Epoch 33/120: 100%|██████████| 14/14 [00:05<00:00,  2.48it/s, loss=0.316]\n"
     ]
    },
    {
     "name": "stdout",
     "output_type": "stream",
     "text": [
      "Epoch 33/120:\n",
      "  Train Loss: 0.3160\n",
      "  Val Loss: 0.3367\n",
      "  Mean IoU: 0.2924\n",
      "  Time: 6.25s\n",
      "Model saved!\n"
     ]
    },
    {
     "name": "stderr",
     "output_type": "stream",
     "text": [
      "Epoch 34/120: 100%|██████████| 14/14 [00:05<00:00,  2.45it/s, loss=0.312]\n"
     ]
    },
    {
     "name": "stdout",
     "output_type": "stream",
     "text": [
      "Epoch 34/120:\n",
      "  Train Loss: 0.3123\n",
      "  Val Loss: 0.3346\n",
      "  Mean IoU: 0.2929\n",
      "  Time: 6.24s\n",
      "Model saved!\n"
     ]
    },
    {
     "name": "stderr",
     "output_type": "stream",
     "text": [
      "Epoch 35/120: 100%|██████████| 14/14 [00:05<00:00,  2.47it/s, loss=0.312]\n"
     ]
    },
    {
     "name": "stdout",
     "output_type": "stream",
     "text": [
      "Epoch 35/120:\n",
      "  Train Loss: 0.3123\n",
      "  Val Loss: 0.3335\n",
      "  Mean IoU: 0.2918\n",
      "  Time: 6.31s\n",
      "Model saved!\n"
     ]
    },
    {
     "name": "stderr",
     "output_type": "stream",
     "text": [
      "Epoch 36/120: 100%|██████████| 14/14 [00:05<00:00,  2.46it/s, loss=0.308]\n"
     ]
    },
    {
     "name": "stdout",
     "output_type": "stream",
     "text": [
      "Epoch 36/120:\n",
      "  Train Loss: 0.3081\n",
      "  Val Loss: 0.3308\n",
      "  Mean IoU: 0.2947\n",
      "  Time: 6.24s\n",
      "Model saved!\n"
     ]
    },
    {
     "name": "stderr",
     "output_type": "stream",
     "text": [
      "Epoch 37/120: 100%|██████████| 14/14 [00:05<00:00,  2.48it/s, loss=0.306]\n"
     ]
    },
    {
     "name": "stdout",
     "output_type": "stream",
     "text": [
      "Epoch 37/120:\n",
      "  Train Loss: 0.3064\n",
      "  Val Loss: 0.3278\n",
      "  Mean IoU: 0.2934\n",
      "  Time: 6.17s\n",
      "Model saved!\n"
     ]
    },
    {
     "name": "stderr",
     "output_type": "stream",
     "text": [
      "Epoch 38/120: 100%|██████████| 14/14 [00:05<00:00,  2.48it/s, loss=0.303]\n"
     ]
    },
    {
     "name": "stdout",
     "output_type": "stream",
     "text": [
      "Epoch 38/120:\n",
      "  Train Loss: 0.3032\n",
      "  Val Loss: 0.3246\n",
      "  Mean IoU: 0.2978\n",
      "  Time: 6.20s\n",
      "Model saved!\n"
     ]
    },
    {
     "name": "stderr",
     "output_type": "stream",
     "text": [
      "Epoch 39/120: 100%|██████████| 14/14 [00:05<00:00,  2.49it/s, loss=0.303]\n"
     ]
    },
    {
     "name": "stdout",
     "output_type": "stream",
     "text": [
      "Epoch 39/120:\n",
      "  Train Loss: 0.3032\n",
      "  Val Loss: 0.3231\n",
      "  Mean IoU: 0.2990\n",
      "  Time: 6.17s\n",
      "Model saved!\n"
     ]
    },
    {
     "name": "stderr",
     "output_type": "stream",
     "text": [
      "Epoch 40/120: 100%|██████████| 14/14 [00:05<00:00,  2.44it/s, loss=0.3]  \n"
     ]
    },
    {
     "name": "stdout",
     "output_type": "stream",
     "text": [
      "Epoch 40/120:\n",
      "  Train Loss: 0.3004\n",
      "  Val Loss: 0.3192\n",
      "  Mean IoU: 0.2986\n",
      "  Time: 6.37s\n",
      "Model saved!\n"
     ]
    },
    {
     "name": "stderr",
     "output_type": "stream",
     "text": [
      "Epoch 41/120: 100%|██████████| 14/14 [00:05<00:00,  2.45it/s, loss=0.299]\n"
     ]
    },
    {
     "name": "stdout",
     "output_type": "stream",
     "text": [
      "Epoch 41/120:\n",
      "  Train Loss: 0.2987\n",
      "  Val Loss: 0.3209\n",
      "  Mean IoU: 0.2938\n",
      "  Time: 6.23s\n"
     ]
    },
    {
     "name": "stderr",
     "output_type": "stream",
     "text": [
      "Epoch 42/120: 100%|██████████| 14/14 [00:05<00:00,  2.47it/s, loss=0.297]\n"
     ]
    },
    {
     "name": "stdout",
     "output_type": "stream",
     "text": [
      "Epoch 42/120:\n",
      "  Train Loss: 0.2973\n",
      "  Val Loss: 0.3219\n",
      "  Mean IoU: 0.2970\n",
      "  Time: 6.22s\n"
     ]
    },
    {
     "name": "stderr",
     "output_type": "stream",
     "text": [
      "Epoch 43/120: 100%|██████████| 14/14 [00:05<00:00,  2.45it/s, loss=0.294]\n"
     ]
    },
    {
     "name": "stdout",
     "output_type": "stream",
     "text": [
      "Epoch 43/120:\n",
      "  Train Loss: 0.2937\n",
      "  Val Loss: 0.3154\n",
      "  Mean IoU: 0.2975\n",
      "  Time: 6.25s\n",
      "Model saved!\n"
     ]
    },
    {
     "name": "stderr",
     "output_type": "stream",
     "text": [
      "Epoch 44/120: 100%|██████████| 14/14 [00:05<00:00,  2.48it/s, loss=0.293]\n"
     ]
    },
    {
     "name": "stdout",
     "output_type": "stream",
     "text": [
      "Epoch 44/120:\n",
      "  Train Loss: 0.2925\n",
      "  Val Loss: 0.3141\n",
      "  Mean IoU: 0.2976\n",
      "  Time: 6.19s\n",
      "Model saved!\n"
     ]
    },
    {
     "name": "stderr",
     "output_type": "stream",
     "text": [
      "Epoch 45/120: 100%|██████████| 14/14 [00:05<00:00,  2.48it/s, loss=0.291]\n"
     ]
    },
    {
     "name": "stdout",
     "output_type": "stream",
     "text": [
      "Epoch 45/120:\n",
      "  Train Loss: 0.2911\n",
      "  Val Loss: 0.3140\n",
      "  Mean IoU: 0.2977\n",
      "  Time: 6.19s\n",
      "Model saved!\n"
     ]
    },
    {
     "name": "stderr",
     "output_type": "stream",
     "text": [
      "Epoch 46/120: 100%|██████████| 14/14 [00:05<00:00,  2.51it/s, loss=0.288]\n"
     ]
    },
    {
     "name": "stdout",
     "output_type": "stream",
     "text": [
      "Epoch 46/120:\n",
      "  Train Loss: 0.2883\n",
      "  Val Loss: 0.3135\n",
      "  Mean IoU: 0.2963\n",
      "  Time: 6.23s\n",
      "Model saved!\n"
     ]
    },
    {
     "name": "stderr",
     "output_type": "stream",
     "text": [
      "Epoch 47/120: 100%|██████████| 14/14 [00:05<00:00,  2.46it/s, loss=0.288]\n"
     ]
    },
    {
     "name": "stdout",
     "output_type": "stream",
     "text": [
      "Epoch 47/120:\n",
      "  Train Loss: 0.2880\n",
      "  Val Loss: 0.3111\n",
      "  Mean IoU: 0.2956\n",
      "  Time: 6.26s\n",
      "Model saved!\n"
     ]
    },
    {
     "name": "stderr",
     "output_type": "stream",
     "text": [
      "Epoch 48/120: 100%|██████████| 14/14 [00:05<00:00,  2.45it/s, loss=0.285]\n"
     ]
    },
    {
     "name": "stdout",
     "output_type": "stream",
     "text": [
      "Epoch 48/120:\n",
      "  Train Loss: 0.2851\n",
      "  Val Loss: 0.3104\n",
      "  Mean IoU: 0.2984\n",
      "  Time: 6.27s\n",
      "Model saved!\n"
     ]
    },
    {
     "name": "stderr",
     "output_type": "stream",
     "text": [
      "Epoch 49/120: 100%|██████████| 14/14 [00:05<00:00,  2.43it/s, loss=0.287]\n"
     ]
    },
    {
     "name": "stdout",
     "output_type": "stream",
     "text": [
      "Epoch 49/120:\n",
      "  Train Loss: 0.2866\n",
      "  Val Loss: 0.3092\n",
      "  Mean IoU: 0.3017\n",
      "  Time: 6.32s\n",
      "Model saved!\n"
     ]
    },
    {
     "name": "stderr",
     "output_type": "stream",
     "text": [
      "Epoch 50/120: 100%|██████████| 14/14 [00:05<00:00,  2.43it/s, loss=0.284]\n"
     ]
    },
    {
     "name": "stdout",
     "output_type": "stream",
     "text": [
      "Epoch 50/120:\n",
      "  Train Loss: 0.2838\n",
      "  Val Loss: 0.3090\n",
      "  Mean IoU: 0.2980\n",
      "  Time: 6.31s\n",
      "Model saved!\n"
     ]
    },
    {
     "name": "stderr",
     "output_type": "stream",
     "text": [
      "Epoch 51/120: 100%|██████████| 14/14 [00:05<00:00,  2.47it/s, loss=0.283]\n"
     ]
    },
    {
     "name": "stdout",
     "output_type": "stream",
     "text": [
      "Epoch 51/120:\n",
      "  Train Loss: 0.2835\n",
      "  Val Loss: 0.3080\n",
      "  Mean IoU: 0.2977\n",
      "  Time: 6.27s\n",
      "Model saved!\n"
     ]
    },
    {
     "name": "stderr",
     "output_type": "stream",
     "text": [
      "Epoch 52/120: 100%|██████████| 14/14 [00:05<00:00,  2.51it/s, loss=0.283]\n"
     ]
    },
    {
     "name": "stdout",
     "output_type": "stream",
     "text": [
      "Epoch 52/120:\n",
      "  Train Loss: 0.2831\n",
      "  Val Loss: 0.3107\n",
      "  Mean IoU: 0.2948\n",
      "  Time: 6.12s\n"
     ]
    },
    {
     "name": "stderr",
     "output_type": "stream",
     "text": [
      "Epoch 53/120: 100%|██████████| 14/14 [00:05<00:00,  2.50it/s, loss=0.28] \n"
     ]
    },
    {
     "name": "stdout",
     "output_type": "stream",
     "text": [
      "Epoch 53/120:\n",
      "  Train Loss: 0.2798\n",
      "  Val Loss: 0.3062\n",
      "  Mean IoU: 0.3004\n",
      "  Time: 6.15s\n",
      "Model saved!\n"
     ]
    },
    {
     "name": "stderr",
     "output_type": "stream",
     "text": [
      "Epoch 54/120: 100%|██████████| 14/14 [00:05<00:00,  2.46it/s, loss=0.28] \n"
     ]
    },
    {
     "name": "stdout",
     "output_type": "stream",
     "text": [
      "Epoch 54/120:\n",
      "  Train Loss: 0.2803\n",
      "  Val Loss: 0.3072\n",
      "  Mean IoU: 0.2994\n",
      "  Time: 6.24s\n"
     ]
    },
    {
     "name": "stderr",
     "output_type": "stream",
     "text": [
      "Epoch 55/120: 100%|██████████| 14/14 [00:05<00:00,  2.49it/s, loss=0.277]\n"
     ]
    },
    {
     "name": "stdout",
     "output_type": "stream",
     "text": [
      "Epoch 55/120:\n",
      "  Train Loss: 0.2770\n",
      "  Val Loss: 0.3063\n",
      "  Mean IoU: 0.2993\n",
      "  Time: 6.16s\n"
     ]
    },
    {
     "name": "stderr",
     "output_type": "stream",
     "text": [
      "Epoch 56/120: 100%|██████████| 14/14 [00:05<00:00,  2.44it/s, loss=0.276]\n"
     ]
    },
    {
     "name": "stdout",
     "output_type": "stream",
     "text": [
      "Epoch 56/120:\n",
      "  Train Loss: 0.2765\n",
      "  Val Loss: 0.3068\n",
      "  Mean IoU: 0.2993\n",
      "  Time: 6.27s\n"
     ]
    },
    {
     "name": "stderr",
     "output_type": "stream",
     "text": [
      "Epoch 57/120: 100%|██████████| 14/14 [00:05<00:00,  2.54it/s, loss=0.275]\n"
     ]
    },
    {
     "name": "stdout",
     "output_type": "stream",
     "text": [
      "Epoch 57/120:\n",
      "  Train Loss: 0.2752\n",
      "  Val Loss: 0.3035\n",
      "  Mean IoU: 0.3026\n",
      "  Time: 6.05s\n",
      "Model saved!\n"
     ]
    },
    {
     "name": "stderr",
     "output_type": "stream",
     "text": [
      "Epoch 58/120: 100%|██████████| 14/14 [00:05<00:00,  2.52it/s, loss=0.276]\n"
     ]
    },
    {
     "name": "stdout",
     "output_type": "stream",
     "text": [
      "Epoch 58/120:\n",
      "  Train Loss: 0.2763\n",
      "  Val Loss: 0.3026\n",
      "  Mean IoU: 0.2986\n",
      "  Time: 6.10s\n",
      "Model saved!\n"
     ]
    },
    {
     "name": "stderr",
     "output_type": "stream",
     "text": [
      "Epoch 59/120: 100%|██████████| 14/14 [00:05<00:00,  2.49it/s, loss=0.275]\n"
     ]
    },
    {
     "name": "stdout",
     "output_type": "stream",
     "text": [
      "Epoch 59/120:\n",
      "  Train Loss: 0.2754\n",
      "  Val Loss: 0.3021\n",
      "  Mean IoU: 0.3000\n",
      "  Time: 6.16s\n",
      "Model saved!\n"
     ]
    },
    {
     "name": "stderr",
     "output_type": "stream",
     "text": [
      "Epoch 60/120: 100%|██████████| 14/14 [00:05<00:00,  2.41it/s, loss=0.275]\n"
     ]
    },
    {
     "name": "stdout",
     "output_type": "stream",
     "text": [
      "Epoch 60/120:\n",
      "  Train Loss: 0.2750\n",
      "  Val Loss: 0.3017\n",
      "  Mean IoU: 0.3019\n",
      "  Time: 6.39s\n",
      "Model saved!\n"
     ]
    },
    {
     "name": "stderr",
     "output_type": "stream",
     "text": [
      "Epoch 61/120: 100%|██████████| 14/14 [00:05<00:00,  2.45it/s, loss=0.272]\n"
     ]
    },
    {
     "name": "stdout",
     "output_type": "stream",
     "text": [
      "Epoch 61/120:\n",
      "  Train Loss: 0.2723\n",
      "  Val Loss: 0.3027\n",
      "  Mean IoU: 0.3000\n",
      "  Time: 6.25s\n"
     ]
    },
    {
     "name": "stderr",
     "output_type": "stream",
     "text": [
      "Epoch 62/120: 100%|██████████| 14/14 [00:05<00:00,  2.43it/s, loss=0.272]\n"
     ]
    },
    {
     "name": "stdout",
     "output_type": "stream",
     "text": [
      "Epoch 62/120:\n",
      "  Train Loss: 0.2722\n",
      "  Val Loss: 0.3008\n",
      "  Mean IoU: 0.3006\n",
      "  Time: 6.38s\n",
      "Model saved!\n"
     ]
    },
    {
     "name": "stderr",
     "output_type": "stream",
     "text": [
      "Epoch 63/120: 100%|██████████| 14/14 [00:05<00:00,  2.54it/s, loss=0.272]\n"
     ]
    },
    {
     "name": "stdout",
     "output_type": "stream",
     "text": [
      "Epoch 63/120:\n",
      "  Train Loss: 0.2716\n",
      "  Val Loss: 0.3003\n",
      "  Mean IoU: 0.3006\n",
      "  Time: 6.05s\n",
      "Model saved!\n"
     ]
    },
    {
     "name": "stderr",
     "output_type": "stream",
     "text": [
      "Epoch 64/120: 100%|██████████| 14/14 [00:05<00:00,  2.48it/s, loss=0.271]\n"
     ]
    },
    {
     "name": "stdout",
     "output_type": "stream",
     "text": [
      "Epoch 64/120:\n",
      "  Train Loss: 0.2709\n",
      "  Val Loss: 0.3049\n",
      "  Mean IoU: 0.2982\n",
      "  Time: 6.22s\n"
     ]
    },
    {
     "name": "stderr",
     "output_type": "stream",
     "text": [
      "Epoch 65/120: 100%|██████████| 14/14 [00:05<00:00,  2.52it/s, loss=0.269]\n"
     ]
    },
    {
     "name": "stdout",
     "output_type": "stream",
     "text": [
      "Epoch 65/120:\n",
      "  Train Loss: 0.2693\n",
      "  Val Loss: 0.3020\n",
      "  Mean IoU: 0.2999\n",
      "  Time: 6.09s\n"
     ]
    },
    {
     "name": "stderr",
     "output_type": "stream",
     "text": [
      "Epoch 66/120: 100%|██████████| 14/14 [00:05<00:00,  2.51it/s, loss=0.27] \n"
     ]
    },
    {
     "name": "stdout",
     "output_type": "stream",
     "text": [
      "Epoch 66/120:\n",
      "  Train Loss: 0.2704\n",
      "  Val Loss: 0.3011\n",
      "  Mean IoU: 0.3009\n",
      "  Time: 6.10s\n"
     ]
    },
    {
     "name": "stderr",
     "output_type": "stream",
     "text": [
      "Epoch 67/120: 100%|██████████| 14/14 [00:05<00:00,  2.54it/s, loss=0.268]\n"
     ]
    },
    {
     "name": "stdout",
     "output_type": "stream",
     "text": [
      "Epoch 67/120:\n",
      "  Train Loss: 0.2681\n",
      "  Val Loss: 0.2998\n",
      "  Mean IoU: 0.3009\n",
      "  Time: 6.05s\n",
      "Model saved!\n"
     ]
    },
    {
     "name": "stderr",
     "output_type": "stream",
     "text": [
      "Epoch 68/120: 100%|██████████| 14/14 [00:05<00:00,  2.53it/s, loss=0.268]\n"
     ]
    },
    {
     "name": "stdout",
     "output_type": "stream",
     "text": [
      "Epoch 68/120:\n",
      "  Train Loss: 0.2684\n",
      "  Val Loss: 0.3031\n",
      "  Mean IoU: 0.2991\n",
      "  Time: 6.08s\n"
     ]
    },
    {
     "name": "stderr",
     "output_type": "stream",
     "text": [
      "Epoch 69/120: 100%|██████████| 14/14 [00:05<00:00,  2.51it/s, loss=0.267]\n"
     ]
    },
    {
     "name": "stdout",
     "output_type": "stream",
     "text": [
      "Epoch 69/120:\n",
      "  Train Loss: 0.2668\n",
      "  Val Loss: 0.2996\n",
      "  Mean IoU: 0.3032\n",
      "  Time: 6.10s\n",
      "Model saved!\n"
     ]
    },
    {
     "name": "stderr",
     "output_type": "stream",
     "text": [
      "Epoch 70/120: 100%|██████████| 14/14 [00:05<00:00,  2.55it/s, loss=0.269]\n"
     ]
    },
    {
     "name": "stdout",
     "output_type": "stream",
     "text": [
      "Epoch 70/120:\n",
      "  Train Loss: 0.2692\n",
      "  Val Loss: 0.3016\n",
      "  Mean IoU: 0.2997\n",
      "  Time: 6.06s\n"
     ]
    },
    {
     "name": "stderr",
     "output_type": "stream",
     "text": [
      "Epoch 71/120: 100%|██████████| 14/14 [00:05<00:00,  2.46it/s, loss=0.266]\n"
     ]
    },
    {
     "name": "stdout",
     "output_type": "stream",
     "text": [
      "Epoch 71/120:\n",
      "  Train Loss: 0.2663\n",
      "  Val Loss: 0.3014\n",
      "  Mean IoU: 0.2987\n",
      "  Time: 6.23s\n"
     ]
    },
    {
     "name": "stderr",
     "output_type": "stream",
     "text": [
      "Epoch 72/120: 100%|██████████| 14/14 [00:05<00:00,  2.38it/s, loss=0.265]\n"
     ]
    },
    {
     "name": "stdout",
     "output_type": "stream",
     "text": [
      "Epoch 72/120:\n",
      "  Train Loss: 0.2650\n",
      "  Val Loss: 0.2960\n",
      "  Mean IoU: 0.3038\n",
      "  Time: 6.44s\n",
      "Model saved!\n"
     ]
    },
    {
     "name": "stderr",
     "output_type": "stream",
     "text": [
      "Epoch 73/120: 100%|██████████| 14/14 [00:05<00:00,  2.45it/s, loss=0.264]\n"
     ]
    },
    {
     "name": "stdout",
     "output_type": "stream",
     "text": [
      "Epoch 73/120:\n",
      "  Train Loss: 0.2645\n",
      "  Val Loss: 0.2942\n",
      "  Mean IoU: 0.3049\n",
      "  Time: 6.25s\n",
      "Model saved!\n"
     ]
    },
    {
     "name": "stderr",
     "output_type": "stream",
     "text": [
      "Epoch 74/120: 100%|██████████| 14/14 [00:05<00:00,  2.49it/s, loss=0.267]\n"
     ]
    },
    {
     "name": "stdout",
     "output_type": "stream",
     "text": [
      "Epoch 74/120:\n",
      "  Train Loss: 0.2667\n",
      "  Val Loss: 0.2990\n",
      "  Mean IoU: 0.3012\n",
      "  Time: 6.17s\n"
     ]
    },
    {
     "name": "stderr",
     "output_type": "stream",
     "text": [
      "Epoch 75/120: 100%|██████████| 14/14 [00:05<00:00,  2.52it/s, loss=0.263]\n"
     ]
    },
    {
     "name": "stdout",
     "output_type": "stream",
     "text": [
      "Epoch 75/120:\n",
      "  Train Loss: 0.2635\n",
      "  Val Loss: 0.2991\n",
      "  Mean IoU: 0.3011\n",
      "  Time: 6.11s\n"
     ]
    },
    {
     "name": "stderr",
     "output_type": "stream",
     "text": [
      "Epoch 76/120: 100%|██████████| 14/14 [00:05<00:00,  2.43it/s, loss=0.262]\n"
     ]
    },
    {
     "name": "stdout",
     "output_type": "stream",
     "text": [
      "Epoch 76/120:\n",
      "  Train Loss: 0.2625\n",
      "  Val Loss: 0.2959\n",
      "  Mean IoU: 0.3035\n",
      "  Time: 6.35s\n"
     ]
    },
    {
     "name": "stderr",
     "output_type": "stream",
     "text": [
      "Epoch 77/120: 100%|██████████| 14/14 [00:05<00:00,  2.51it/s, loss=0.263]\n"
     ]
    },
    {
     "name": "stdout",
     "output_type": "stream",
     "text": [
      "Epoch 77/120:\n",
      "  Train Loss: 0.2634\n",
      "  Val Loss: 0.2959\n",
      "  Mean IoU: 0.3030\n",
      "  Time: 6.10s\n"
     ]
    },
    {
     "name": "stderr",
     "output_type": "stream",
     "text": [
      "Epoch 78/120: 100%|██████████| 14/14 [00:05<00:00,  2.48it/s, loss=0.261]\n"
     ]
    },
    {
     "name": "stdout",
     "output_type": "stream",
     "text": [
      "Epoch 78/120:\n",
      "  Train Loss: 0.2611\n",
      "  Val Loss: 0.2971\n",
      "  Mean IoU: 0.3015\n",
      "  Time: 6.24s\n"
     ]
    },
    {
     "name": "stderr",
     "output_type": "stream",
     "text": [
      "Epoch 79/120: 100%|██████████| 14/14 [00:05<00:00,  2.46it/s, loss=0.263]\n"
     ]
    },
    {
     "name": "stdout",
     "output_type": "stream",
     "text": [
      "Epoch 79/120:\n",
      "  Train Loss: 0.2626\n",
      "  Val Loss: 0.2950\n",
      "  Mean IoU: 0.3043\n",
      "  Time: 6.23s\n"
     ]
    },
    {
     "name": "stderr",
     "output_type": "stream",
     "text": [
      "Epoch 80/120: 100%|██████████| 14/14 [00:05<00:00,  2.44it/s, loss=0.263]\n"
     ]
    },
    {
     "name": "stdout",
     "output_type": "stream",
     "text": [
      "Epoch 80/120:\n",
      "  Train Loss: 0.2635\n",
      "  Val Loss: 0.2951\n",
      "  Mean IoU: 0.3047\n",
      "  Time: 6.31s\n"
     ]
    },
    {
     "name": "stderr",
     "output_type": "stream",
     "text": [
      "Epoch 81/120: 100%|██████████| 14/14 [00:05<00:00,  2.40it/s, loss=0.261]\n"
     ]
    },
    {
     "name": "stdout",
     "output_type": "stream",
     "text": [
      "Epoch 81/120:\n",
      "  Train Loss: 0.2612\n",
      "  Val Loss: 0.2966\n",
      "  Mean IoU: 0.3040\n",
      "  Time: 6.38s\n"
     ]
    },
    {
     "name": "stderr",
     "output_type": "stream",
     "text": [
      "Epoch 82/120: 100%|██████████| 14/14 [00:05<00:00,  2.45it/s, loss=0.261]\n"
     ]
    },
    {
     "name": "stdout",
     "output_type": "stream",
     "text": [
      "Epoch 82/120:\n",
      "  Train Loss: 0.2609\n",
      "  Val Loss: 0.2967\n",
      "  Mean IoU: 0.3034\n",
      "  Time: 6.31s\n"
     ]
    },
    {
     "name": "stderr",
     "output_type": "stream",
     "text": [
      "Epoch 83/120: 100%|██████████| 14/14 [00:05<00:00,  2.46it/s, loss=0.261]\n"
     ]
    },
    {
     "name": "stdout",
     "output_type": "stream",
     "text": [
      "Epoch 83/120:\n",
      "  Train Loss: 0.2613\n",
      "  Val Loss: 0.2989\n",
      "  Mean IoU: 0.3015\n",
      "  Time: 6.24s\n"
     ]
    },
    {
     "name": "stderr",
     "output_type": "stream",
     "text": [
      "Epoch 84/120: 100%|██████████| 14/14 [00:05<00:00,  2.42it/s, loss=0.264]\n"
     ]
    },
    {
     "name": "stdout",
     "output_type": "stream",
     "text": [
      "Epoch 84/120:\n",
      "  Train Loss: 0.2639\n",
      "  Val Loss: 0.2994\n",
      "  Mean IoU: 0.3006\n",
      "  Time: 6.33s\n"
     ]
    },
    {
     "name": "stderr",
     "output_type": "stream",
     "text": [
      "Epoch 85/120: 100%|██████████| 14/14 [00:05<00:00,  2.42it/s, loss=0.262]\n"
     ]
    },
    {
     "name": "stdout",
     "output_type": "stream",
     "text": [
      "Epoch 85/120:\n",
      "  Train Loss: 0.2620\n",
      "  Val Loss: 0.2960\n",
      "  Mean IoU: 0.3035\n",
      "  Time: 6.34s\n"
     ]
    },
    {
     "name": "stderr",
     "output_type": "stream",
     "text": [
      "Epoch 86/120: 100%|██████████| 14/14 [00:05<00:00,  2.45it/s, loss=0.262]\n"
     ]
    },
    {
     "name": "stdout",
     "output_type": "stream",
     "text": [
      "Epoch 86/120:\n",
      "  Train Loss: 0.2616\n",
      "  Val Loss: 0.2978\n",
      "  Mean IoU: 0.3026\n",
      "  Time: 6.31s\n"
     ]
    },
    {
     "name": "stderr",
     "output_type": "stream",
     "text": [
      "Epoch 87/120: 100%|██████████| 14/14 [00:05<00:00,  2.48it/s, loss=0.26] \n"
     ]
    },
    {
     "name": "stdout",
     "output_type": "stream",
     "text": [
      "Epoch 87/120:\n",
      "  Train Loss: 0.2600\n",
      "  Val Loss: 0.2988\n",
      "  Mean IoU: 0.3019\n",
      "  Time: 6.20s\n"
     ]
    },
    {
     "name": "stderr",
     "output_type": "stream",
     "text": [
      "Epoch 88/120: 100%|██████████| 14/14 [00:05<00:00,  2.54it/s, loss=0.259]\n"
     ]
    },
    {
     "name": "stdout",
     "output_type": "stream",
     "text": [
      "Epoch 88/120:\n",
      "  Train Loss: 0.2589\n",
      "  Val Loss: 0.2985\n",
      "  Mean IoU: 0.3017\n",
      "  Time: 6.05s\n"
     ]
    },
    {
     "name": "stderr",
     "output_type": "stream",
     "text": [
      "Epoch 89/120: 100%|██████████| 14/14 [00:05<00:00,  2.45it/s, loss=0.26] \n"
     ]
    },
    {
     "name": "stdout",
     "output_type": "stream",
     "text": [
      "Epoch 89/120:\n",
      "  Train Loss: 0.2597\n",
      "  Val Loss: 0.2992\n",
      "  Mean IoU: 0.3006\n",
      "  Time: 6.23s\n"
     ]
    },
    {
     "name": "stderr",
     "output_type": "stream",
     "text": [
      "Epoch 90/120: 100%|██████████| 14/14 [00:05<00:00,  2.43it/s, loss=0.262]\n"
     ]
    },
    {
     "name": "stdout",
     "output_type": "stream",
     "text": [
      "Epoch 90/120:\n",
      "  Train Loss: 0.2617\n",
      "  Val Loss: 0.2993\n",
      "  Mean IoU: 0.3016\n",
      "  Time: 6.29s\n"
     ]
    },
    {
     "name": "stderr",
     "output_type": "stream",
     "text": [
      "Epoch 91/120: 100%|██████████| 14/14 [00:05<00:00,  2.44it/s, loss=0.259]\n"
     ]
    },
    {
     "name": "stdout",
     "output_type": "stream",
     "text": [
      "Epoch 91/120:\n",
      "  Train Loss: 0.2590\n",
      "  Val Loss: 0.2982\n",
      "  Mean IoU: 0.3030\n",
      "  Time: 6.30s\n"
     ]
    },
    {
     "name": "stderr",
     "output_type": "stream",
     "text": [
      "Epoch 92/120: 100%|██████████| 14/14 [00:05<00:00,  2.42it/s, loss=0.258]\n"
     ]
    },
    {
     "name": "stdout",
     "output_type": "stream",
     "text": [
      "Epoch 92/120:\n",
      "  Train Loss: 0.2577\n",
      "  Val Loss: 0.2978\n",
      "  Mean IoU: 0.3038\n",
      "  Time: 6.31s\n"
     ]
    },
    {
     "name": "stderr",
     "output_type": "stream",
     "text": [
      "Epoch 93/120: 100%|██████████| 14/14 [00:05<00:00,  2.46it/s, loss=0.258]\n"
     ]
    },
    {
     "name": "stdout",
     "output_type": "stream",
     "text": [
      "Epoch 93/120:\n",
      "  Train Loss: 0.2581\n",
      "  Val Loss: 0.2993\n",
      "  Mean IoU: 0.3023\n",
      "  Time: 6.23s\n"
     ]
    },
    {
     "name": "stderr",
     "output_type": "stream",
     "text": [
      "Epoch 94/120: 100%|██████████| 14/14 [00:05<00:00,  2.53it/s, loss=0.257]\n"
     ]
    },
    {
     "name": "stdout",
     "output_type": "stream",
     "text": [
      "Epoch 94/120:\n",
      "  Train Loss: 0.2574\n",
      "  Val Loss: 0.2996\n",
      "  Mean IoU: 0.3021\n",
      "  Time: 6.07s\n"
     ]
    },
    {
     "name": "stderr",
     "output_type": "stream",
     "text": [
      "Epoch 95/120: 100%|██████████| 14/14 [00:05<00:00,  2.41it/s, loss=0.258]\n"
     ]
    },
    {
     "name": "stdout",
     "output_type": "stream",
     "text": [
      "Epoch 95/120:\n",
      "  Train Loss: 0.2577\n",
      "  Val Loss: 0.2995\n",
      "  Mean IoU: 0.3023\n",
      "  Time: 6.38s\n"
     ]
    },
    {
     "name": "stderr",
     "output_type": "stream",
     "text": [
      "Epoch 96/120: 100%|██████████| 14/14 [00:05<00:00,  2.44it/s, loss=0.258]\n"
     ]
    },
    {
     "name": "stdout",
     "output_type": "stream",
     "text": [
      "Epoch 96/120:\n",
      "  Train Loss: 0.2579\n",
      "  Val Loss: 0.2989\n",
      "  Mean IoU: 0.3022\n",
      "  Time: 6.31s\n"
     ]
    },
    {
     "name": "stderr",
     "output_type": "stream",
     "text": [
      "Epoch 97/120: 100%|██████████| 14/14 [00:05<00:00,  2.44it/s, loss=0.257]\n"
     ]
    },
    {
     "name": "stdout",
     "output_type": "stream",
     "text": [
      "Epoch 97/120:\n",
      "  Train Loss: 0.2567\n",
      "  Val Loss: 0.3005\n",
      "  Mean IoU: 0.3006\n",
      "  Time: 6.30s\n"
     ]
    },
    {
     "name": "stderr",
     "output_type": "stream",
     "text": [
      "Epoch 98/120: 100%|██████████| 14/14 [00:05<00:00,  2.50it/s, loss=0.257]\n"
     ]
    },
    {
     "name": "stdout",
     "output_type": "stream",
     "text": [
      "Epoch 98/120:\n",
      "  Train Loss: 0.2571\n",
      "  Val Loss: 0.2993\n",
      "  Mean IoU: 0.3013\n",
      "  Time: 6.16s\n"
     ]
    },
    {
     "name": "stderr",
     "output_type": "stream",
     "text": [
      "Epoch 99/120: 100%|██████████| 14/14 [00:05<00:00,  2.47it/s, loss=0.257]\n"
     ]
    },
    {
     "name": "stdout",
     "output_type": "stream",
     "text": [
      "Epoch 99/120:\n",
      "  Train Loss: 0.2574\n",
      "  Val Loss: 0.2995\n",
      "  Mean IoU: 0.3013\n",
      "  Time: 6.19s\n"
     ]
    },
    {
     "name": "stderr",
     "output_type": "stream",
     "text": [
      "Epoch 100/120: 100%|██████████| 14/14 [00:05<00:00,  2.44it/s, loss=0.257]\n"
     ]
    },
    {
     "name": "stdout",
     "output_type": "stream",
     "text": [
      "Epoch 100/120:\n",
      "  Train Loss: 0.2574\n",
      "  Val Loss: 0.2998\n",
      "  Mean IoU: 0.3011\n",
      "  Time: 6.26s\n"
     ]
    },
    {
     "name": "stderr",
     "output_type": "stream",
     "text": [
      "Epoch 101/120: 100%|██████████| 14/14 [00:05<00:00,  2.46it/s, loss=0.26] \n"
     ]
    },
    {
     "name": "stdout",
     "output_type": "stream",
     "text": [
      "Epoch 101/120:\n",
      "  Train Loss: 0.2596\n",
      "  Val Loss: 0.2990\n",
      "  Mean IoU: 0.3020\n",
      "  Time: 6.22s\n"
     ]
    },
    {
     "name": "stderr",
     "output_type": "stream",
     "text": [
      "Epoch 102/120: 100%|██████████| 14/14 [00:05<00:00,  2.46it/s, loss=0.258]\n"
     ]
    },
    {
     "name": "stdout",
     "output_type": "stream",
     "text": [
      "Epoch 102/120:\n",
      "  Train Loss: 0.2584\n",
      "  Val Loss: 0.2996\n",
      "  Mean IoU: 0.3017\n",
      "  Time: 6.25s\n"
     ]
    },
    {
     "name": "stderr",
     "output_type": "stream",
     "text": [
      "Epoch 103/120: 100%|██████████| 14/14 [00:05<00:00,  2.47it/s, loss=0.257]\n"
     ]
    },
    {
     "name": "stdout",
     "output_type": "stream",
     "text": [
      "Epoch 103/120:\n",
      "  Train Loss: 0.2573\n",
      "  Val Loss: 0.2997\n",
      "  Mean IoU: 0.3018\n",
      "  Time: 6.19s\n"
     ]
    },
    {
     "name": "stderr",
     "output_type": "stream",
     "text": [
      "Epoch 104/120: 100%|██████████| 14/14 [00:05<00:00,  2.44it/s, loss=0.257]\n"
     ]
    },
    {
     "name": "stdout",
     "output_type": "stream",
     "text": [
      "Epoch 104/120:\n",
      "  Train Loss: 0.2573\n",
      "  Val Loss: 0.2988\n",
      "  Mean IoU: 0.3023\n",
      "  Time: 6.28s\n"
     ]
    },
    {
     "name": "stderr",
     "output_type": "stream",
     "text": [
      "Epoch 105/120: 100%|██████████| 14/14 [00:05<00:00,  2.45it/s, loss=0.257]\n"
     ]
    },
    {
     "name": "stdout",
     "output_type": "stream",
     "text": [
      "Epoch 105/120:\n",
      "  Train Loss: 0.2574\n",
      "  Val Loss: 0.2981\n",
      "  Mean IoU: 0.3025\n",
      "  Time: 6.23s\n"
     ]
    },
    {
     "name": "stderr",
     "output_type": "stream",
     "text": [
      "Epoch 106/120: 100%|██████████| 14/14 [00:05<00:00,  2.43it/s, loss=0.257]\n"
     ]
    },
    {
     "name": "stdout",
     "output_type": "stream",
     "text": [
      "Epoch 106/120:\n",
      "  Train Loss: 0.2570\n",
      "  Val Loss: 0.2987\n",
      "  Mean IoU: 0.3024\n",
      "  Time: 6.31s\n"
     ]
    },
    {
     "name": "stderr",
     "output_type": "stream",
     "text": [
      "Epoch 107/120: 100%|██████████| 14/14 [00:05<00:00,  2.50it/s, loss=0.257]\n"
     ]
    },
    {
     "name": "stdout",
     "output_type": "stream",
     "text": [
      "Epoch 107/120:\n",
      "  Train Loss: 0.2570\n",
      "  Val Loss: 0.2989\n",
      "  Mean IoU: 0.3022\n",
      "  Time: 6.14s\n"
     ]
    },
    {
     "name": "stderr",
     "output_type": "stream",
     "text": [
      "Epoch 108/120: 100%|██████████| 14/14 [00:05<00:00,  2.52it/s, loss=0.26] \n"
     ]
    },
    {
     "name": "stdout",
     "output_type": "stream",
     "text": [
      "Epoch 108/120:\n",
      "  Train Loss: 0.2598\n",
      "  Val Loss: 0.2983\n",
      "  Mean IoU: 0.3028\n",
      "  Time: 6.09s\n"
     ]
    },
    {
     "name": "stderr",
     "output_type": "stream",
     "text": [
      "Epoch 109/120: 100%|██████████| 14/14 [00:05<00:00,  2.51it/s, loss=0.255]\n"
     ]
    },
    {
     "name": "stdout",
     "output_type": "stream",
     "text": [
      "Epoch 109/120:\n",
      "  Train Loss: 0.2549\n",
      "  Val Loss: 0.2986\n",
      "  Mean IoU: 0.3023\n",
      "  Time: 6.12s\n"
     ]
    },
    {
     "name": "stderr",
     "output_type": "stream",
     "text": [
      "Epoch 110/120: 100%|██████████| 14/14 [00:05<00:00,  2.54it/s, loss=0.256]\n"
     ]
    },
    {
     "name": "stdout",
     "output_type": "stream",
     "text": [
      "Epoch 110/120:\n",
      "  Train Loss: 0.2562\n",
      "  Val Loss: 0.2986\n",
      "  Mean IoU: 0.3026\n",
      "  Time: 6.02s\n"
     ]
    },
    {
     "name": "stderr",
     "output_type": "stream",
     "text": [
      "Epoch 111/120: 100%|██████████| 14/14 [00:05<00:00,  2.51it/s, loss=0.256]\n"
     ]
    },
    {
     "name": "stdout",
     "output_type": "stream",
     "text": [
      "Epoch 111/120:\n",
      "  Train Loss: 0.2560\n",
      "  Val Loss: 0.2987\n",
      "  Mean IoU: 0.3026\n",
      "  Time: 6.11s\n"
     ]
    },
    {
     "name": "stderr",
     "output_type": "stream",
     "text": [
      "Epoch 112/120: 100%|██████████| 14/14 [00:05<00:00,  2.44it/s, loss=0.257]\n"
     ]
    },
    {
     "name": "stdout",
     "output_type": "stream",
     "text": [
      "Epoch 112/120:\n",
      "  Train Loss: 0.2567\n",
      "  Val Loss: 0.2988\n",
      "  Mean IoU: 0.3022\n",
      "  Time: 6.27s\n"
     ]
    },
    {
     "name": "stderr",
     "output_type": "stream",
     "text": [
      "Epoch 113/120: 100%|██████████| 14/14 [00:05<00:00,  2.55it/s, loss=0.257]\n"
     ]
    },
    {
     "name": "stdout",
     "output_type": "stream",
     "text": [
      "Epoch 113/120:\n",
      "  Train Loss: 0.2570\n",
      "  Val Loss: 0.2985\n",
      "  Mean IoU: 0.3023\n",
      "  Time: 6.02s\n"
     ]
    },
    {
     "name": "stderr",
     "output_type": "stream",
     "text": [
      "Epoch 114/120: 100%|██████████| 14/14 [00:05<00:00,  2.54it/s, loss=0.257]\n"
     ]
    },
    {
     "name": "stdout",
     "output_type": "stream",
     "text": [
      "Epoch 114/120:\n",
      "  Train Loss: 0.2573\n",
      "  Val Loss: 0.2981\n",
      "  Mean IoU: 0.3030\n",
      "  Time: 6.07s\n"
     ]
    },
    {
     "name": "stderr",
     "output_type": "stream",
     "text": [
      "Epoch 115/120: 100%|██████████| 14/14 [00:05<00:00,  2.54it/s, loss=0.257]\n"
     ]
    },
    {
     "name": "stdout",
     "output_type": "stream",
     "text": [
      "Epoch 115/120:\n",
      "  Train Loss: 0.2574\n",
      "  Val Loss: 0.2986\n",
      "  Mean IoU: 0.3026\n",
      "  Time: 6.07s\n"
     ]
    },
    {
     "name": "stderr",
     "output_type": "stream",
     "text": [
      "Epoch 116/120: 100%|██████████| 14/14 [00:05<00:00,  2.53it/s, loss=0.257]\n"
     ]
    },
    {
     "name": "stdout",
     "output_type": "stream",
     "text": [
      "Epoch 116/120:\n",
      "  Train Loss: 0.2572\n",
      "  Val Loss: 0.2985\n",
      "  Mean IoU: 0.3027\n",
      "  Time: 6.10s\n"
     ]
    },
    {
     "name": "stderr",
     "output_type": "stream",
     "text": [
      "Epoch 117/120: 100%|██████████| 14/14 [00:05<00:00,  2.41it/s, loss=0.256]\n"
     ]
    },
    {
     "name": "stdout",
     "output_type": "stream",
     "text": [
      "Epoch 117/120:\n",
      "  Train Loss: 0.2555\n",
      "  Val Loss: 0.2981\n",
      "  Mean IoU: 0.3031\n",
      "  Time: 6.38s\n"
     ]
    },
    {
     "name": "stderr",
     "output_type": "stream",
     "text": [
      "Epoch 118/120: 100%|██████████| 14/14 [00:05<00:00,  2.41it/s, loss=0.257]\n"
     ]
    },
    {
     "name": "stdout",
     "output_type": "stream",
     "text": [
      "Epoch 118/120:\n",
      "  Train Loss: 0.2574\n",
      "  Val Loss: 0.2977\n",
      "  Mean IoU: 0.3033\n",
      "  Time: 6.36s\n"
     ]
    },
    {
     "name": "stderr",
     "output_type": "stream",
     "text": [
      "Epoch 119/120: 100%|██████████| 14/14 [00:05<00:00,  2.41it/s, loss=0.257]\n"
     ]
    },
    {
     "name": "stdout",
     "output_type": "stream",
     "text": [
      "Epoch 119/120:\n",
      "  Train Loss: 0.2565\n",
      "  Val Loss: 0.2983\n",
      "  Mean IoU: 0.3029\n",
      "  Time: 6.39s\n"
     ]
    },
    {
     "name": "stderr",
     "output_type": "stream",
     "text": [
      "Epoch 120/120: 100%|██████████| 14/14 [00:05<00:00,  2.43it/s, loss=0.256]\n"
     ]
    },
    {
     "name": "stdout",
     "output_type": "stream",
     "text": [
      "Epoch 120/120:\n",
      "  Train Loss: 0.2557\n",
      "  Val Loss: 0.2982\n",
      "  Mean IoU: 0.3029\n",
      "  Time: 6.34s\n",
      "\n",
      "--- Training Metrics Summary from: training_metrics_20250507_103631.csv ---\n",
      "Epoch   | Train Loss   | Val Loss   | Mean IoU   | Time (s)  \n",
      "------------------------------------------------------------\n",
      "1       | 1.1073       | 0.9896     | 0.0044     | 7.67      \n",
      "2       | 1.0058       | 1.0309     | 0.0060     | 6.35      \n",
      "3       | 0.9196       | 1.0113     | 0.0354     | 6.28      \n",
      "4       | 0.8454       | 0.9425     | 0.0748     | 6.22      \n",
      "5       | 0.7784       | 0.8509     | 0.1274     | 6.29      \n",
      "6       | 0.7092       | 0.7766     | 0.1847     | 6.33      \n",
      "7       | 0.6438       | 0.7383     | 0.2212     | 6.35      \n",
      "8       | 0.5809       | 0.6827     | 0.2425     | 6.49      \n",
      "9       | 0.5436       | 0.6610     | 0.2479     | 6.50      \n",
      "10      | 0.5058       | 0.6371     | 0.2585     | 6.57      \n",
      "11      | 0.4762       | 0.5876     | 0.2624     | 6.49      \n",
      "12      | 0.4572       | 0.5555     | 0.2664     | 6.24      \n",
      "13      | 0.4431       | 0.5226     | 0.2706     | 6.28      \n",
      "14      | 0.4241       | 0.5043     | 0.2731     | 6.29      \n",
      "15      | 0.4114       | 0.4840     | 0.2748     | 6.30      \n",
      "16      | 0.4048       | 0.4678     | 0.2759     | 6.39      \n",
      "17      | 0.3975       | 0.4689     | 0.2754     | 6.45      \n",
      "18      | 0.3849       | 0.4302     | 0.2769     | 6.51      \n",
      "19      | 0.3776       | 0.4198     | 0.2795     | 6.51      \n",
      "20      | 0.3681       | 0.4094     | 0.2792     | 6.32      \n",
      "21      | 0.3644       | 0.4042     | 0.2827     | 6.44      \n",
      "22      | 0.3576       | 0.3979     | 0.2807     | 6.54      \n",
      "23      | 0.3528       | 0.3886     | 0.2822     | 6.43      \n",
      "24      | 0.3488       | 0.3842     | 0.2835     | 6.40      \n",
      "25      | 0.3431       | 0.3800     | 0.2801     | 6.41      \n",
      "26      | 0.3383       | 0.3707     | 0.2887     | 6.31      \n",
      "27      | 0.3347       | 0.3624     | 0.2904     | 6.34      \n",
      "28      | 0.3328       | 0.3595     | 0.2879     | 6.17      \n",
      "29      | 0.3274       | 0.3509     | 0.2904     | 6.26      \n",
      "30      | 0.3255       | 0.3476     | 0.2904     | 6.45      \n",
      "31      | 0.3210       | 0.3437     | 0.2917     | 6.30      \n",
      "32      | 0.3178       | 0.3415     | 0.2927     | 6.38      \n",
      "33      | 0.3160       | 0.3367     | 0.2924     | 6.25      \n",
      "34      | 0.3123       | 0.3346     | 0.2929     | 6.24      \n",
      "35      | 0.3123       | 0.3335     | 0.2918     | 6.31      \n",
      "36      | 0.3081       | 0.3308     | 0.2947     | 6.24      \n",
      "37      | 0.3064       | 0.3278     | 0.2934     | 6.17      \n",
      "38      | 0.3032       | 0.3246     | 0.2978     | 6.20      \n",
      "39      | 0.3032       | 0.3231     | 0.2990     | 6.17      \n",
      "40      | 0.3004       | 0.3192     | 0.2986     | 6.37      \n",
      "41      | 0.2987       | 0.3209     | 0.2938     | 6.23      \n",
      "42      | 0.2973       | 0.3219     | 0.2970     | 6.22      \n",
      "43      | 0.2937       | 0.3154     | 0.2975     | 6.25      \n",
      "44      | 0.2925       | 0.3141     | 0.2976     | 6.19      \n",
      "45      | 0.2911       | 0.3140     | 0.2977     | 6.19      \n",
      "46      | 0.2883       | 0.3135     | 0.2963     | 6.23      \n",
      "47      | 0.2880       | 0.3111     | 0.2956     | 6.26      \n",
      "48      | 0.2851       | 0.3104     | 0.2984     | 6.27      \n",
      "49      | 0.2866       | 0.3092     | 0.3017     | 6.32      \n",
      "50      | 0.2838       | 0.3090     | 0.2980     | 6.31      \n",
      "51      | 0.2835       | 0.3080     | 0.2977     | 6.27      \n",
      "52      | 0.2831       | 0.3107     | 0.2948     | 6.12      \n",
      "53      | 0.2798       | 0.3062     | 0.3004     | 6.15      \n",
      "54      | 0.2803       | 0.3072     | 0.2994     | 6.24      \n",
      "55      | 0.2770       | 0.3063     | 0.2993     | 6.16      \n",
      "56      | 0.2765       | 0.3068     | 0.2993     | 6.27      \n",
      "57      | 0.2752       | 0.3035     | 0.3026     | 6.05      \n",
      "58      | 0.2763       | 0.3026     | 0.2986     | 6.10      \n",
      "59      | 0.2754       | 0.3021     | 0.3000     | 6.16      \n",
      "60      | 0.2750       | 0.3017     | 0.3019     | 6.39      \n",
      "61      | 0.2723       | 0.3027     | 0.3000     | 6.25      \n",
      "62      | 0.2722       | 0.3008     | 0.3006     | 6.38      \n",
      "63      | 0.2716       | 0.3003     | 0.3006     | 6.05      \n",
      "64      | 0.2709       | 0.3049     | 0.2982     | 6.22      \n",
      "65      | 0.2693       | 0.3020     | 0.2999     | 6.09      \n",
      "66      | 0.2704       | 0.3011     | 0.3009     | 6.10      \n",
      "67      | 0.2681       | 0.2998     | 0.3009     | 6.05      \n",
      "68      | 0.2684       | 0.3031     | 0.2991     | 6.08      \n",
      "69      | 0.2668       | 0.2996     | 0.3032     | 6.10      \n",
      "70      | 0.2692       | 0.3016     | 0.2997     | 6.06      \n",
      "71      | 0.2663       | 0.3014     | 0.2987     | 6.23      \n",
      "72      | 0.2650       | 0.2960     | 0.3038     | 6.44      \n",
      "73      | 0.2645       | 0.2942     | 0.3049     | 6.25      \n",
      "74      | 0.2667       | 0.2990     | 0.3012     | 6.17      \n",
      "75      | 0.2635       | 0.2991     | 0.3011     | 6.11      \n",
      "76      | 0.2625       | 0.2959     | 0.3035     | 6.35      \n",
      "77      | 0.2634       | 0.2959     | 0.3030     | 6.10      \n",
      "78      | 0.2611       | 0.2971     | 0.3015     | 6.24      \n",
      "79      | 0.2626       | 0.2950     | 0.3043     | 6.23      \n",
      "80      | 0.2635       | 0.2951     | 0.3047     | 6.31      \n",
      "81      | 0.2612       | 0.2966     | 0.3040     | 6.38      \n",
      "82      | 0.2609       | 0.2967     | 0.3034     | 6.31      \n",
      "83      | 0.2613       | 0.2989     | 0.3015     | 6.24      \n",
      "84      | 0.2639       | 0.2994     | 0.3006     | 6.33      \n",
      "85      | 0.2620       | 0.2960     | 0.3035     | 6.34      \n",
      "86      | 0.2616       | 0.2978     | 0.3026     | 6.31      \n",
      "87      | 0.2600       | 0.2988     | 0.3019     | 6.20      \n",
      "88      | 0.2589       | 0.2985     | 0.3017     | 6.05      \n",
      "89      | 0.2597       | 0.2992     | 0.3006     | 6.23      \n",
      "90      | 0.2617       | 0.2993     | 0.3016     | 6.29      \n",
      "91      | 0.2590       | 0.2982     | 0.3030     | 6.30      \n",
      "92      | 0.2577       | 0.2978     | 0.3038     | 6.31      \n",
      "93      | 0.2581       | 0.2993     | 0.3023     | 6.23      \n",
      "94      | 0.2574       | 0.2996     | 0.3021     | 6.07      \n",
      "95      | 0.2577       | 0.2995     | 0.3023     | 6.38      \n",
      "96      | 0.2579       | 0.2989     | 0.3022     | 6.31      \n",
      "97      | 0.2567       | 0.3005     | 0.3006     | 6.30      \n",
      "98      | 0.2571       | 0.2993     | 0.3013     | 6.16      \n",
      "99      | 0.2574       | 0.2995     | 0.3013     | 6.19      \n",
      "100     | 0.2574       | 0.2998     | 0.3011     | 6.26      \n",
      "101     | 0.2596       | 0.2990     | 0.3020     | 6.22      \n",
      "102     | 0.2584       | 0.2996     | 0.3017     | 6.25      \n",
      "103     | 0.2573       | 0.2997     | 0.3018     | 6.19      \n",
      "104     | 0.2573       | 0.2988     | 0.3023     | 6.28      \n",
      "105     | 0.2574       | 0.2981     | 0.3025     | 6.23      \n",
      "106     | 0.2570       | 0.2987     | 0.3024     | 6.31      \n",
      "107     | 0.2570       | 0.2989     | 0.3022     | 6.14      \n",
      "108     | 0.2598       | 0.2983     | 0.3028     | 6.09      \n",
      "109     | 0.2549       | 0.2986     | 0.3023     | 6.12      \n",
      "110     | 0.2562       | 0.2986     | 0.3026     | 6.02      \n",
      "111     | 0.2560       | 0.2987     | 0.3026     | 6.11      \n",
      "112     | 0.2567       | 0.2988     | 0.3022     | 6.27      \n",
      "113     | 0.2570       | 0.2985     | 0.3023     | 6.02      \n",
      "114     | 0.2573       | 0.2981     | 0.3030     | 6.07      \n",
      "115     | 0.2574       | 0.2986     | 0.3026     | 6.07      \n",
      "116     | 0.2572       | 0.2985     | 0.3027     | 6.10      \n",
      "117     | 0.2555       | 0.2981     | 0.3031     | 6.38      \n",
      "118     | 0.2574       | 0.2977     | 0.3033     | 6.36      \n",
      "119     | 0.2565       | 0.2983     | 0.3029     | 6.39      \n",
      "120     | 0.2557       | 0.2982     | 0.3029     | 6.34      \n"
     ]
    }
   ],
   "source": [
    "def main():\n",
    "    device = torch.device('cuda' if torch.cuda.is_available() else 'cpu')\n",
    "    print(f'Using device: {device}')\n",
    "\n",
    "    target_image_size = (256, 256) \n",
    "    num_classes = 5 \n",
    "    num_epochs_to_run = 120 \n",
    "\n",
    "    # Albumentations transforms\n",
    "    train_transform = A.Compose([\n",
    "        A.Resize(height=target_image_size[0], width=target_image_size[1]),\n",
    "        A.HorizontalFlip(p=0.5),\n",
    "        A.VerticalFlip(p=0.3),\n",
    "        A.Rotate(limit=30, p=0.3),\n",
    "        # A.RandomBrightnessContrast(brightness_limit=0.2, contrast_limit=0.2, p=0.3),\n",
    "        # A.HueSaturationValue(hue_shift_limit=20, sat_shift_limit=30, val_shift_limit=20, p=0.3),\n",
    "        A.Normalize(mean=[0.485, 0.456, 0.406], std=[0.229, 0.224, 0.225]),\n",
    "        ToTensorV2()\n",
    "    ])\n",
    "\n",
    "    val_transform = A.Compose([\n",
    "        A.Resize(height=target_image_size[0], width=target_image_size[1]),\n",
    "        A.Normalize(mean=[0.485, 0.456, 0.406], std=[0.229, 0.224, 0.225]),\n",
    "        ToTensorV2()\n",
    "    ])\n",
    "\n",
    "    train_dataset = SegmentationDataset('dataset/train', transform=train_transform, target_size=target_image_size)\n",
    "    val_dataset = SegmentationDataset('dataset/val', transform=val_transform, target_size=target_image_size)\n",
    "\n",
    "    train_loader = DataLoader(train_dataset, batch_size=8, shuffle=True, num_workers=4)\n",
    "    val_loader = DataLoader(val_dataset, batch_size=8, shuffle=False, num_workers=4)\n",
    "\n",
    "    \n",
    "    \n",
    "    chosen_encoder = \"efficientnet-b5\" \n",
    "    print(f\"Using model: DeepLabV3+ with {chosen_encoder} backbone\")\n",
    "    model = smp.DeepLabV3Plus(\n",
    "        encoder_name=chosen_encoder,        \n",
    "        encoder_weights=\"imagenet\",     \n",
    "        in_channels=3,                  \n",
    "        classes=num_classes,            \n",
    "    ).to(device)\n",
    "    \n",
    "    # Loss functions\n",
    "    # ce_criterion = nn.CrossEntropyLoss().to(device)\n",
    "    ce_criterion = smp_losses.FocalLoss(mode='multiclass').to(device)\n",
    "    # Ensure DiceLoss class is defined in a previous cell\n",
    "    dice_criterion = DiceLoss(num_classes=num_classes).to(device) \n",
    "    loss_combination_weights = (0.7, 0.3) \n",
    "\n",
    "    \n",
    "    optimizer = optim.AdamW(model.parameters(), lr=5e-5, weight_decay=1e-2) \n",
    "\n",
    "    # Learning Rate Scheduler\n",
    "    # from torch.optim.lr_scheduler import ReduceLROnPlateau, CosineAnnealingLR\n",
    "    # scheduler = ReduceLROnPlateau(optimizer, mode='min', factor=0.2, patience=7, verbose=True, min_lr=1e-6)\n",
    "    scheduler = CosineAnnealingLR(optimizer, T_max=num_epochs_to_run, eta_min=1e-6) \n",
    "\n",
    "    train_model(model, train_loader, val_loader, \n",
    "                  ce_criterion, dice_criterion, \n",
    "                  optimizer, num_epochs=num_epochs_to_run, device=device, \n",
    "                  loss_weights=loss_combination_weights, scheduler=scheduler)\n",
    "    \n",
    "    # After training, print the metrics table\n",
    "    print_latest_metrics_table()\n",
    "\n",
    "if __name__ == '__main__':\n",
    "    main()\n"
   ]
  }
 ],
 "metadata": {
  "kernelspec": {
   "display_name": "Python 3",
   "language": "python",
   "name": "python3"
  },
  "language_info": {
   "codemirror_mode": {
    "name": "ipython",
    "version": 3
   },
   "file_extension": ".py",
   "mimetype": "text/x-python",
   "name": "python",
   "nbconvert_exporter": "python",
   "pygments_lexer": "ipython3",
   "version": "3.10.12"
  }
 },
 "nbformat": 4,
 "nbformat_minor": 5
}
