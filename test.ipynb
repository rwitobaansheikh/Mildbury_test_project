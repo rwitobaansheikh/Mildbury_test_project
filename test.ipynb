{
 "cells": [
  {
   "cell_type": "code",
   "execution_count": 1,
   "id": "6323185c",
   "metadata": {},
   "outputs": [],
   "source": [
    "import torch\n",
    "import torch.nn as nn\n",
    "import torch.optim as optim\n",
    "from torch.utils.data import DataLoader\n",
    "from torchvision import transforms\n",
    "from tqdm import tqdm\n",
    "from torch.utils.data import Dataset, DataLoader\n",
    "#from dataloader import SegmentationDataset\n",
    "from model import UNet\n",
    "import matplotlib.pyplot as plt\n",
    "import numpy as np\n",
    "import os\n",
    "os.environ['CUDA_LAUNCH_BLOCKING'] = \"1\"\n",
    "import csv\n",
    "import time\n",
    "from datetime import datetime\n",
    "from PIL import Image"
   ]
  },
  {
   "cell_type": "code",
   "execution_count": 2,
   "id": "f87836dd",
   "metadata": {},
   "outputs": [],
   "source": [
    "SEGMENTATION_COLOURS = {0:[0,0,0],1:[255,0,0],2:[0,253,0],3:[0,0,250], 4:[253,255,0]}"
   ]
  },
  {
   "cell_type": "code",
   "execution_count": 3,
   "id": "2c89fc38",
   "metadata": {},
   "outputs": [],
   "source": [
    "def calculate_iou(pred_mask, target_mask, num_classes=5):\n",
    "    ious = []\n",
    "    \n",
    "    if torch.is_tensor(pred_mask):\n",
    "        pred_mask = pred_mask.cpu().numpy()\n",
    "    if torch.is_tensor(target_mask):\n",
    "        target_mask = target_mask.cpu().numpy()\n",
    "    \n",
    "    for cls in range(num_classes):\n",
    "        pred_inds = pred_mask == cls\n",
    "        target_inds = target_mask == cls\n",
    "        \n",
    "        intersection = np.logical_and(pred_inds, target_inds).sum()\n",
    "        union = np.logical_or(pred_inds, target_inds).sum()\n",
    "        \n",
    "        iou = intersection / (union + 1e-6)  \n",
    "        ious.append(iou)\n",
    "    \n",
    "    return np.mean(ious)"
   ]
  },
  {
   "cell_type": "code",
   "execution_count": 4,
   "id": "f4ce558b",
   "metadata": {},
   "outputs": [],
   "source": [
    "class SegmentationDataset(Dataset):\n",
    "    def __init__(self, root_dir, transform=None):\n",
    "        \n",
    "        self.root_dir = root_dir\n",
    "        self.transform = transform\n",
    "\n",
    "        self.image_dir = os.path.join(root_dir, 'Images')\n",
    "        self.mask_dir = os.path.join(root_dir, 'Labels')\n",
    "        \n",
    "        self.image_files = sorted([f for f in os.listdir(self.image_dir) \n",
    "                                 if f.endswith(('.png', '.jpg', '.jpeg'))])\n",
    "        \n",
    "        for img in self.image_files:\n",
    "            base_name = os.path.splitext(img)[0]\n",
    "            mask_name = f\"{base_name}_mask.png\"\n",
    "            mask_path = os.path.join(self.mask_dir, mask_name)\n",
    "\n",
    "\n",
    "    def __len__(self):\n",
    "        return len(self.image_files)\n",
    "\n",
    "    def __getitem__(self, idx):\n",
    "        img_name = os.path.join(self.image_dir, self.image_files[idx])\n",
    "        base_name = os.path.splitext(self.image_files[idx])[0]\n",
    "        mask_name = os.path.join(self.mask_dir, f\"{base_name}_mask.png\")\n",
    "        \n",
    "        # Load image and mask\n",
    "        image = Image.open(img_name).convert('RGB')\n",
    "        mask = Image.open(mask_name).convert('RGB')  # Keep as RGB for color mapping\n",
    "        \n",
    "        if self.transform:\n",
    "            image = self.transform(image)\n",
    "            mask = self.transform_mask(mask)\n",
    "        \n",
    "        # Convert RGB mask to class indices\n",
    "        mask_np = np.array(mask)\n",
    "        class_mask = np.zeros((mask_np.shape[0], mask_np.shape[1]), dtype=np.uint8)\n",
    "        \n",
    "        # Map colors to class indices\n",
    "        for class_idx, color in SEGMENTATION_COLOURS.items():\n",
    "            # Find all pixels that match this color\n",
    "            matches = np.all(mask_np == np.array(color), axis=-1)\n",
    "            class_mask[matches] = class_idx\n",
    "        \n",
    "        return image, torch.from_numpy(class_mask).long()\n",
    "    \n",
    "    def transform_mask(self, mask):\n",
    "        \"\"\"Apply only the spatial transforms to the mask (resize)\"\"\"\n",
    "        if self.transform is None:\n",
    "            return np.array(mask)\n",
    "        \n",
    "        # Get the resize transform if it exists\n",
    "        for t in self.transform.transforms:\n",
    "            if isinstance(t, transforms.Resize):\n",
    "                mask = t(mask)\n",
    "                break\n",
    "        \n",
    "        return np.array(mask)"
   ]
  },
  {
   "cell_type": "code",
   "execution_count": 5,
   "id": "b9c71659",
   "metadata": {},
   "outputs": [],
   "source": [
    "def print_latest_metrics_table():\n",
    "    metrics_dir = 'metrics'\n",
    "    try:\n",
    "        if not os.path.isdir(metrics_dir):\n",
    "            print(f\"Metrics directory '{metrics_dir}' not found. Run training first.\")\n",
    "            return\n",
    "\n",
    "        all_files = [\n",
    "            os.path.join(metrics_dir, f)\n",
    "            for f in os.listdir(metrics_dir)\n",
    "            if os.path.isfile(os.path.join(metrics_dir, f)) and\n",
    "               f.startswith('training_metrics_') and f.endswith('.csv')\n",
    "        ]\n",
    "        if not all_files:\n",
    "            print(f\"No 'training_metrics_*.csv' files found in the '{metrics_dir}' directory.\")\n",
    "            return\n",
    "\n",
    "        latest_file = max(all_files, key=os.path.getmtime)\n",
    "        print(f\"\\n--- Training Metrics Summary from: {os.path.basename(latest_file)} ---\")\n",
    "\n",
    "        with open(latest_file, 'r', newline='') as f:\n",
    "            reader = csv.reader(f)\n",
    "            try:\n",
    "                header = next(reader) # Read header row\n",
    "                # Expected header: ['Epoch', 'Train Loss', 'Val Loss', 'Mean IoU', 'Time (s)']\n",
    "                print(f\"{'Epoch':<7} | {'Train Loss':<12} | {'Val Loss':<10} | {'Mean IoU':<10} | {'Time (s)':<10}\")\n",
    "                print(\"-\" * 60) # Separator line\n",
    "\n",
    "                for i, row in enumerate(reader):\n",
    "                    if len(row) == 5:\n",
    "                        try:\n",
    "                            epoch = row[0]\n",
    "                            train_loss = float(row[1])\n",
    "                            val_loss = float(row[2])\n",
    "                            mean_iou = float(row[3])\n",
    "                            time_s = float(row[4])\n",
    "                            print(f\"{epoch:<7} | {train_loss:<12.4f} | {val_loss:<10.4f} | {mean_iou:<10.4f} | {time_s:<10.2f}\")\n",
    "                        except ValueError:\n",
    "                            print(f\"Warning: Could not parse row {i+1} in {os.path.basename(latest_file)}: {row}\")\n",
    "                    else:\n",
    "                        print(f\"Warning: Skipping malformed row {i+1} in {os.path.basename(latest_file)} (expected 5 columns): {row}\")\n",
    "            except StopIteration:\n",
    "                print(f\"Warning: The metrics file {os.path.basename(latest_file)} is empty or has no data rows.\")\n",
    "\n",
    "    except FileNotFoundError:\n",
    "        print(f\"Error: The directory '{metrics_dir}' or a specific metrics file was not found. Ensure training has run.\")\n",
    "    except Exception as e:\n",
    "        print(f\"An error occurred while trying to print metrics: {e}\")"
   ]
  },
  {
   "cell_type": "code",
   "execution_count": 6,
   "id": "12b2d540",
   "metadata": {},
   "outputs": [],
   "source": [
    "def train_model(model, train_loader, val_loader, criterion, optimizer, num_epochs, device):\n",
    "    best_val_loss = float('inf')\n",
    "    \n",
    "    metrics_dir = 'metrics'\n",
    "    os.makedirs(metrics_dir, exist_ok=True)\n",
    "    \n",
    "    timestamp = datetime.now().strftime('%Y%m%d_%H%M%S')\n",
    "    metrics_file = os.path.join(metrics_dir, f'training_metrics_{timestamp}.csv')\n",
    "    \n",
    "    with open(metrics_file, 'w', newline='') as f:\n",
    "        writer = csv.writer(f)\n",
    "        writer.writerow(['Epoch', 'Train Loss', 'Val Loss', 'Mean IoU', 'Time (s)'])\n",
    "    \n",
    "    for epoch in range(num_epochs):\n",
    "        epoch_start_time = time.time()\n",
    "        model.train()\n",
    "        train_loss = 0\n",
    "        train_bar = tqdm(train_loader, desc=f'Epoch {epoch+1}/{num_epochs}')\n",
    "        \n",
    "        for images, masks in train_bar:\n",
    "            images = images.to(device)\n",
    "            masks = masks.to(device)\n",
    "            \n",
    "            optimizer.zero_grad()\n",
    "            outputs = model(images)\n",
    "            loss = criterion(outputs, masks)\n",
    "            loss.backward()\n",
    "            optimizer.step()\n",
    "            \n",
    "            train_loss += loss.item()\n",
    "            train_bar.set_postfix({'loss': train_loss / len(train_loader)})\n",
    "        \n",
    "        avg_train_loss = train_loss / len(train_loader)\n",
    "        \n",
    "        model.eval()\n",
    "        val_loss = 0\n",
    "        all_preds = []\n",
    "        all_targets = []\n",
    "        \n",
    "        with torch.no_grad():\n",
    "            for images, masks in val_loader:\n",
    "                images = images.to(device)\n",
    "                masks = masks.to(device)\n",
    "                outputs = model(images)\n",
    "                loss = criterion(outputs, masks)\n",
    "                val_loss += loss.item()\n",
    "                \n",
    "                predictions = torch.argmax(outputs, dim=1)\n",
    "                all_preds.append(predictions.cpu().numpy())\n",
    "                all_targets.append(masks.cpu().numpy())\n",
    "        \n",
    "        avg_val_loss = val_loss / len(val_loader)\n",
    "        \n",
    "        all_preds = np.concatenate(all_preds, axis=0)\n",
    "        all_targets = np.concatenate(all_targets, axis=0)\n",
    "        mean_iou = calculate_iou(all_preds, all_targets)\n",
    "        \n",
    "        epoch_time = time.time() - epoch_start_time        \n",
    "        with open(metrics_file, 'a', newline='') as f:\n",
    "            writer = csv.writer(f)\n",
    "            writer.writerow([epoch+1, avg_train_loss, avg_val_loss, mean_iou, epoch_time])\n",
    "        \n",
    "        print(f'Epoch {epoch+1}/{num_epochs}:')\n",
    "        print(f'  Train Loss: {avg_train_loss:.4f}')\n",
    "        print(f'  Val Loss: {avg_val_loss:.4f}')\n",
    "        print(f'  Mean IoU: {mean_iou:.4f}')\n",
    "        print(f'  Time: {epoch_time:.2f}s')\n",
    "        \n",
    "        if avg_val_loss < best_val_loss:\n",
    "            best_val_loss = avg_val_loss\n",
    "            torch.save(model.state_dict(), 'best_model.pth')\n",
    "            print('Model saved!')\n"
   ]
  },
  {
   "cell_type": "code",
   "execution_count": 7,
   "id": "90bcff24",
   "metadata": {},
   "outputs": [
    {
     "name": "stdout",
     "output_type": "stream",
     "text": [
      "Using device: cuda\n"
     ]
    },
    {
     "name": "stderr",
     "output_type": "stream",
     "text": [
      "Epoch 1/50: 100%|██████████| 14/14 [00:05<00:00,  2.79it/s, loss=1.26]\n"
     ]
    },
    {
     "name": "stdout",
     "output_type": "stream",
     "text": [
      "Epoch 1/50:\n",
      "  Train Loss: 1.2630\n",
      "  Val Loss: 0.7279\n",
      "  Mean IoU: 0.1710\n",
      "  Time: 5.55s\n",
      "Model saved!\n"
     ]
    },
    {
     "name": "stderr",
     "output_type": "stream",
     "text": [
      "Epoch 2/50: 100%|██████████| 14/14 [00:04<00:00,  3.14it/s, loss=0.737]\n"
     ]
    },
    {
     "name": "stdout",
     "output_type": "stream",
     "text": [
      "Epoch 2/50:\n",
      "  Train Loss: 0.7370\n",
      "  Val Loss: 0.6514\n",
      "  Mean IoU: 0.1755\n",
      "  Time: 4.91s\n",
      "Model saved!\n"
     ]
    },
    {
     "name": "stderr",
     "output_type": "stream",
     "text": [
      "Epoch 3/50: 100%|██████████| 14/14 [00:04<00:00,  3.19it/s, loss=0.521]\n"
     ]
    },
    {
     "name": "stdout",
     "output_type": "stream",
     "text": [
      "Epoch 3/50:\n",
      "  Train Loss: 0.5207\n",
      "  Val Loss: 0.8100\n",
      "  Mean IoU: 0.2182\n",
      "  Time: 4.86s\n"
     ]
    },
    {
     "name": "stderr",
     "output_type": "stream",
     "text": [
      "Epoch 4/50: 100%|██████████| 14/14 [00:04<00:00,  3.23it/s, loss=0.401]\n"
     ]
    },
    {
     "name": "stdout",
     "output_type": "stream",
     "text": [
      "Epoch 4/50:\n",
      "  Train Loss: 0.4013\n",
      "  Val Loss: 0.4358\n",
      "  Mean IoU: 0.2527\n",
      "  Time: 4.77s\n",
      "Model saved!\n"
     ]
    },
    {
     "name": "stderr",
     "output_type": "stream",
     "text": [
      "Epoch 5/50: 100%|██████████| 14/14 [00:04<00:00,  3.20it/s, loss=0.326]\n"
     ]
    },
    {
     "name": "stdout",
     "output_type": "stream",
     "text": [
      "Epoch 5/50:\n",
      "  Train Loss: 0.3264\n",
      "  Val Loss: 0.3859\n",
      "  Mean IoU: 0.2499\n",
      "  Time: 4.83s\n",
      "Model saved!\n"
     ]
    },
    {
     "name": "stderr",
     "output_type": "stream",
     "text": [
      "Epoch 6/50: 100%|██████████| 14/14 [00:04<00:00,  3.25it/s, loss=0.288]\n"
     ]
    },
    {
     "name": "stdout",
     "output_type": "stream",
     "text": [
      "Epoch 6/50:\n",
      "  Train Loss: 0.2883\n",
      "  Val Loss: 0.3329\n",
      "  Mean IoU: 0.2536\n",
      "  Time: 4.76s\n",
      "Model saved!\n"
     ]
    },
    {
     "name": "stderr",
     "output_type": "stream",
     "text": [
      "Epoch 7/50: 100%|██████████| 14/14 [00:04<00:00,  3.24it/s, loss=0.259]\n"
     ]
    },
    {
     "name": "stdout",
     "output_type": "stream",
     "text": [
      "Epoch 7/50:\n",
      "  Train Loss: 0.2593\n",
      "  Val Loss: 0.3487\n",
      "  Mean IoU: 0.2110\n",
      "  Time: 4.82s\n"
     ]
    },
    {
     "name": "stderr",
     "output_type": "stream",
     "text": [
      "Epoch 8/50: 100%|██████████| 14/14 [00:04<00:00,  3.19it/s, loss=0.235]\n"
     ]
    },
    {
     "name": "stdout",
     "output_type": "stream",
     "text": [
      "Epoch 8/50:\n",
      "  Train Loss: 0.2349\n",
      "  Val Loss: 0.3341\n",
      "  Mean IoU: 0.2257\n",
      "  Time: 4.84s\n"
     ]
    },
    {
     "name": "stderr",
     "output_type": "stream",
     "text": [
      "Epoch 9/50: 100%|██████████| 14/14 [00:04<00:00,  3.13it/s, loss=0.211]\n"
     ]
    },
    {
     "name": "stdout",
     "output_type": "stream",
     "text": [
      "Epoch 9/50:\n",
      "  Train Loss: 0.2114\n",
      "  Val Loss: 0.4452\n",
      "  Mean IoU: 0.1777\n",
      "  Time: 4.96s\n"
     ]
    },
    {
     "name": "stderr",
     "output_type": "stream",
     "text": [
      "Epoch 10/50: 100%|██████████| 14/14 [00:04<00:00,  3.21it/s, loss=0.207]\n"
     ]
    },
    {
     "name": "stdout",
     "output_type": "stream",
     "text": [
      "Epoch 10/50:\n",
      "  Train Loss: 0.2066\n",
      "  Val Loss: 0.2430\n",
      "  Mean IoU: 0.2757\n",
      "  Time: 4.84s\n",
      "Model saved!\n"
     ]
    },
    {
     "name": "stderr",
     "output_type": "stream",
     "text": [
      "Epoch 11/50: 100%|██████████| 14/14 [00:04<00:00,  3.25it/s, loss=0.194]\n"
     ]
    },
    {
     "name": "stdout",
     "output_type": "stream",
     "text": [
      "Epoch 11/50:\n",
      "  Train Loss: 0.1939\n",
      "  Val Loss: 0.2322\n",
      "  Mean IoU: 0.2856\n",
      "  Time: 4.78s\n",
      "Model saved!\n"
     ]
    },
    {
     "name": "stderr",
     "output_type": "stream",
     "text": [
      "Epoch 12/50: 100%|██████████| 14/14 [00:04<00:00,  3.27it/s, loss=0.182]\n"
     ]
    },
    {
     "name": "stdout",
     "output_type": "stream",
     "text": [
      "Epoch 12/50:\n",
      "  Train Loss: 0.1816\n",
      "  Val Loss: 0.3456\n",
      "  Mean IoU: 0.1981\n",
      "  Time: 4.73s\n"
     ]
    },
    {
     "name": "stderr",
     "output_type": "stream",
     "text": [
      "Epoch 13/50: 100%|██████████| 14/14 [00:04<00:00,  3.12it/s, loss=0.171]\n"
     ]
    },
    {
     "name": "stdout",
     "output_type": "stream",
     "text": [
      "Epoch 13/50:\n",
      "  Train Loss: 0.1706\n",
      "  Val Loss: 0.4085\n",
      "  Mean IoU: 0.1805\n",
      "  Time: 4.98s\n"
     ]
    },
    {
     "name": "stderr",
     "output_type": "stream",
     "text": [
      "Epoch 14/50: 100%|██████████| 14/14 [00:04<00:00,  3.19it/s, loss=0.175]\n"
     ]
    },
    {
     "name": "stdout",
     "output_type": "stream",
     "text": [
      "Epoch 14/50:\n",
      "  Train Loss: 0.1747\n",
      "  Val Loss: 0.2984\n",
      "  Mean IoU: 0.2402\n",
      "  Time: 4.85s\n"
     ]
    },
    {
     "name": "stderr",
     "output_type": "stream",
     "text": [
      "Epoch 15/50: 100%|██████████| 14/14 [00:04<00:00,  3.20it/s, loss=0.168] \n"
     ]
    },
    {
     "name": "stdout",
     "output_type": "stream",
     "text": [
      "Epoch 15/50:\n",
      "  Train Loss: 0.1678\n",
      "  Val Loss: 0.2509\n",
      "  Mean IoU: 0.2598\n",
      "  Time: 4.83s\n"
     ]
    },
    {
     "name": "stderr",
     "output_type": "stream",
     "text": [
      "Epoch 16/50: 100%|██████████| 14/14 [00:04<00:00,  3.20it/s, loss=0.159]\n"
     ]
    },
    {
     "name": "stdout",
     "output_type": "stream",
     "text": [
      "Epoch 16/50:\n",
      "  Train Loss: 0.1587\n",
      "  Val Loss: 0.4512\n",
      "  Mean IoU: 0.1866\n",
      "  Time: 4.99s\n"
     ]
    },
    {
     "name": "stderr",
     "output_type": "stream",
     "text": [
      "Epoch 17/50: 100%|██████████| 14/14 [00:04<00:00,  3.10it/s, loss=0.152]\n"
     ]
    },
    {
     "name": "stdout",
     "output_type": "stream",
     "text": [
      "Epoch 17/50:\n",
      "  Train Loss: 0.1521\n",
      "  Val Loss: 0.4152\n",
      "  Mean IoU: 0.1902\n",
      "  Time: 5.05s\n"
     ]
    },
    {
     "name": "stderr",
     "output_type": "stream",
     "text": [
      "Epoch 18/50: 100%|██████████| 14/14 [00:04<00:00,  3.06it/s, loss=0.152]\n"
     ]
    },
    {
     "name": "stdout",
     "output_type": "stream",
     "text": [
      "Epoch 18/50:\n",
      "  Train Loss: 0.1521\n",
      "  Val Loss: 0.2266\n",
      "  Mean IoU: 0.2649\n",
      "  Time: 5.04s\n",
      "Model saved!\n"
     ]
    },
    {
     "name": "stderr",
     "output_type": "stream",
     "text": [
      "Epoch 19/50: 100%|██████████| 14/14 [00:04<00:00,  3.15it/s, loss=0.153] \n"
     ]
    },
    {
     "name": "stdout",
     "output_type": "stream",
     "text": [
      "Epoch 19/50:\n",
      "  Train Loss: 0.1529\n",
      "  Val Loss: 0.3239\n",
      "  Mean IoU: 0.2357\n",
      "  Time: 4.86s\n"
     ]
    },
    {
     "name": "stderr",
     "output_type": "stream",
     "text": [
      "Epoch 20/50: 100%|██████████| 14/14 [00:04<00:00,  3.19it/s, loss=0.157]\n"
     ]
    },
    {
     "name": "stdout",
     "output_type": "stream",
     "text": [
      "Epoch 20/50:\n",
      "  Train Loss: 0.1575\n",
      "  Val Loss: 0.6118\n",
      "  Mean IoU: 0.1757\n",
      "  Time: 4.90s\n"
     ]
    },
    {
     "name": "stderr",
     "output_type": "stream",
     "text": [
      "Epoch 21/50: 100%|██████████| 14/14 [00:04<00:00,  3.15it/s, loss=0.148]\n"
     ]
    },
    {
     "name": "stdout",
     "output_type": "stream",
     "text": [
      "Epoch 21/50:\n",
      "  Train Loss: 0.1476\n",
      "  Val Loss: 0.2606\n",
      "  Mean IoU: 0.2365\n",
      "  Time: 4.92s\n"
     ]
    },
    {
     "name": "stderr",
     "output_type": "stream",
     "text": [
      "Epoch 22/50: 100%|██████████| 14/14 [00:04<00:00,  3.08it/s, loss=0.14]  \n"
     ]
    },
    {
     "name": "stdout",
     "output_type": "stream",
     "text": [
      "Epoch 22/50:\n",
      "  Train Loss: 0.1403\n",
      "  Val Loss: 0.3518\n",
      "  Mean IoU: 0.2540\n",
      "  Time: 5.11s\n"
     ]
    },
    {
     "name": "stderr",
     "output_type": "stream",
     "text": [
      "Epoch 23/50: 100%|██████████| 14/14 [00:04<00:00,  3.08it/s, loss=0.143]\n"
     ]
    },
    {
     "name": "stdout",
     "output_type": "stream",
     "text": [
      "Epoch 23/50:\n",
      "  Train Loss: 0.1431\n",
      "  Val Loss: 0.4480\n",
      "  Mean IoU: 0.1826\n",
      "  Time: 5.02s\n"
     ]
    },
    {
     "name": "stderr",
     "output_type": "stream",
     "text": [
      "Epoch 24/50: 100%|██████████| 14/14 [00:04<00:00,  2.99it/s, loss=0.134] \n"
     ]
    },
    {
     "name": "stdout",
     "output_type": "stream",
     "text": [
      "Epoch 24/50:\n",
      "  Train Loss: 0.1337\n",
      "  Val Loss: 0.4373\n",
      "  Mean IoU: 0.2025\n",
      "  Time: 5.17s\n"
     ]
    },
    {
     "name": "stderr",
     "output_type": "stream",
     "text": [
      "Epoch 25/50: 100%|██████████| 14/14 [00:04<00:00,  3.03it/s, loss=0.134] \n"
     ]
    },
    {
     "name": "stdout",
     "output_type": "stream",
     "text": [
      "Epoch 25/50:\n",
      "  Train Loss: 0.1344\n",
      "  Val Loss: 0.3269\n",
      "  Mean IoU: 0.2568\n",
      "  Time: 5.08s\n"
     ]
    },
    {
     "name": "stderr",
     "output_type": "stream",
     "text": [
      "Epoch 26/50: 100%|██████████| 14/14 [00:04<00:00,  3.07it/s, loss=0.13]  \n"
     ]
    },
    {
     "name": "stdout",
     "output_type": "stream",
     "text": [
      "Epoch 26/50:\n",
      "  Train Loss: 0.1302\n",
      "  Val Loss: 0.2564\n",
      "  Mean IoU: 0.2440\n",
      "  Time: 5.08s\n"
     ]
    },
    {
     "name": "stderr",
     "output_type": "stream",
     "text": [
      "Epoch 27/50: 100%|██████████| 14/14 [00:04<00:00,  3.04it/s, loss=0.13]  \n"
     ]
    },
    {
     "name": "stdout",
     "output_type": "stream",
     "text": [
      "Epoch 27/50:\n",
      "  Train Loss: 0.1301\n",
      "  Val Loss: 0.4206\n",
      "  Mean IoU: 0.2139\n",
      "  Time: 5.09s\n"
     ]
    },
    {
     "name": "stderr",
     "output_type": "stream",
     "text": [
      "Epoch 28/50: 100%|██████████| 14/14 [00:04<00:00,  3.08it/s, loss=0.133] \n"
     ]
    },
    {
     "name": "stdout",
     "output_type": "stream",
     "text": [
      "Epoch 28/50:\n",
      "  Train Loss: 0.1327\n",
      "  Val Loss: 0.6177\n",
      "  Mean IoU: 0.1891\n",
      "  Time: 5.02s\n"
     ]
    },
    {
     "name": "stderr",
     "output_type": "stream",
     "text": [
      "Epoch 29/50: 100%|██████████| 14/14 [00:04<00:00,  3.09it/s, loss=0.128] \n"
     ]
    },
    {
     "name": "stdout",
     "output_type": "stream",
     "text": [
      "Epoch 29/50:\n",
      "  Train Loss: 0.1283\n",
      "  Val Loss: 0.2570\n",
      "  Mean IoU: 0.2776\n",
      "  Time: 5.03s\n"
     ]
    },
    {
     "name": "stderr",
     "output_type": "stream",
     "text": [
      "Epoch 30/50: 100%|██████████| 14/14 [00:04<00:00,  3.09it/s, loss=0.129] \n"
     ]
    },
    {
     "name": "stdout",
     "output_type": "stream",
     "text": [
      "Epoch 30/50:\n",
      "  Train Loss: 0.1292\n",
      "  Val Loss: 0.6196\n",
      "  Mean IoU: 0.1847\n",
      "  Time: 5.09s\n"
     ]
    },
    {
     "name": "stderr",
     "output_type": "stream",
     "text": [
      "Epoch 31/50: 100%|██████████| 14/14 [00:04<00:00,  3.08it/s, loss=0.118] \n"
     ]
    },
    {
     "name": "stdout",
     "output_type": "stream",
     "text": [
      "Epoch 31/50:\n",
      "  Train Loss: 0.1181\n",
      "  Val Loss: 0.2066\n",
      "  Mean IoU: 0.2917\n",
      "  Time: 5.05s\n",
      "Model saved!\n"
     ]
    },
    {
     "name": "stderr",
     "output_type": "stream",
     "text": [
      "Epoch 32/50: 100%|██████████| 14/14 [00:04<00:00,  3.12it/s, loss=0.123] \n"
     ]
    },
    {
     "name": "stdout",
     "output_type": "stream",
     "text": [
      "Epoch 32/50:\n",
      "  Train Loss: 0.1231\n",
      "  Val Loss: 0.5070\n",
      "  Mean IoU: 0.1855\n",
      "  Time: 5.02s\n"
     ]
    },
    {
     "name": "stderr",
     "output_type": "stream",
     "text": [
      "Epoch 33/50: 100%|██████████| 14/14 [00:04<00:00,  3.07it/s, loss=0.117] \n"
     ]
    },
    {
     "name": "stdout",
     "output_type": "stream",
     "text": [
      "Epoch 33/50:\n",
      "  Train Loss: 0.1174\n",
      "  Val Loss: 0.4753\n",
      "  Mean IoU: 0.2133\n",
      "  Time: 5.04s\n"
     ]
    },
    {
     "name": "stderr",
     "output_type": "stream",
     "text": [
      "Epoch 34/50: 100%|██████████| 14/14 [00:04<00:00,  3.18it/s, loss=0.115] \n"
     ]
    },
    {
     "name": "stdout",
     "output_type": "stream",
     "text": [
      "Epoch 34/50:\n",
      "  Train Loss: 0.1148\n",
      "  Val Loss: 0.3474\n",
      "  Mean IoU: 0.2473\n",
      "  Time: 4.91s\n"
     ]
    },
    {
     "name": "stderr",
     "output_type": "stream",
     "text": [
      "Epoch 35/50: 100%|██████████| 14/14 [00:04<00:00,  3.08it/s, loss=0.114] \n"
     ]
    },
    {
     "name": "stdout",
     "output_type": "stream",
     "text": [
      "Epoch 35/50:\n",
      "  Train Loss: 0.1135\n",
      "  Val Loss: 0.2925\n",
      "  Mean IoU: 0.2482\n",
      "  Time: 4.99s\n"
     ]
    },
    {
     "name": "stderr",
     "output_type": "stream",
     "text": [
      "Epoch 36/50: 100%|██████████| 14/14 [00:04<00:00,  3.07it/s, loss=0.111] \n"
     ]
    },
    {
     "name": "stdout",
     "output_type": "stream",
     "text": [
      "Epoch 36/50:\n",
      "  Train Loss: 0.1109\n",
      "  Val Loss: 0.3336\n",
      "  Mean IoU: 0.2519\n",
      "  Time: 5.10s\n"
     ]
    },
    {
     "name": "stderr",
     "output_type": "stream",
     "text": [
      "Epoch 37/50: 100%|██████████| 14/14 [00:04<00:00,  3.15it/s, loss=0.108] \n"
     ]
    },
    {
     "name": "stdout",
     "output_type": "stream",
     "text": [
      "Epoch 37/50:\n",
      "  Train Loss: 0.1081\n",
      "  Val Loss: 0.4002\n",
      "  Mean IoU: 0.2403\n",
      "  Time: 4.94s\n"
     ]
    },
    {
     "name": "stderr",
     "output_type": "stream",
     "text": [
      "Epoch 38/50: 100%|██████████| 14/14 [00:04<00:00,  3.07it/s, loss=0.106] \n"
     ]
    },
    {
     "name": "stdout",
     "output_type": "stream",
     "text": [
      "Epoch 38/50:\n",
      "  Train Loss: 0.1061\n",
      "  Val Loss: 0.7646\n",
      "  Mean IoU: 0.1641\n",
      "  Time: 5.10s\n"
     ]
    },
    {
     "name": "stderr",
     "output_type": "stream",
     "text": [
      "Epoch 39/50: 100%|██████████| 14/14 [00:04<00:00,  3.09it/s, loss=0.103] \n"
     ]
    },
    {
     "name": "stdout",
     "output_type": "stream",
     "text": [
      "Epoch 39/50:\n",
      "  Train Loss: 0.1025\n",
      "  Val Loss: 0.2841\n",
      "  Mean IoU: 0.2675\n",
      "  Time: 5.03s\n"
     ]
    },
    {
     "name": "stderr",
     "output_type": "stream",
     "text": [
      "Epoch 40/50: 100%|██████████| 14/14 [00:04<00:00,  3.06it/s, loss=0.104] \n"
     ]
    },
    {
     "name": "stdout",
     "output_type": "stream",
     "text": [
      "Epoch 40/50:\n",
      "  Train Loss: 0.1036\n",
      "  Val Loss: 0.5589\n",
      "  Mean IoU: 0.1833\n",
      "  Time: 5.06s\n"
     ]
    },
    {
     "name": "stderr",
     "output_type": "stream",
     "text": [
      "Epoch 41/50: 100%|██████████| 14/14 [00:04<00:00,  3.08it/s, loss=0.0998]\n"
     ]
    },
    {
     "name": "stdout",
     "output_type": "stream",
     "text": [
      "Epoch 41/50:\n",
      "  Train Loss: 0.0998\n",
      "  Val Loss: 0.3703\n",
      "  Mean IoU: 0.2186\n",
      "  Time: 5.01s\n"
     ]
    },
    {
     "name": "stderr",
     "output_type": "stream",
     "text": [
      "Epoch 42/50: 100%|██████████| 14/14 [00:04<00:00,  3.16it/s, loss=0.0968]\n"
     ]
    },
    {
     "name": "stdout",
     "output_type": "stream",
     "text": [
      "Epoch 42/50:\n",
      "  Train Loss: 0.0968\n",
      "  Val Loss: 0.2827\n",
      "  Mean IoU: 0.2600\n",
      "  Time: 4.90s\n"
     ]
    },
    {
     "name": "stderr",
     "output_type": "stream",
     "text": [
      "Epoch 43/50: 100%|██████████| 14/14 [00:04<00:00,  3.19it/s, loss=0.0952]\n"
     ]
    },
    {
     "name": "stdout",
     "output_type": "stream",
     "text": [
      "Epoch 43/50:\n",
      "  Train Loss: 0.0952\n",
      "  Val Loss: 0.4705\n",
      "  Mean IoU: 0.2224\n",
      "  Time: 4.86s\n"
     ]
    },
    {
     "name": "stderr",
     "output_type": "stream",
     "text": [
      "Epoch 44/50: 100%|██████████| 14/14 [00:04<00:00,  3.11it/s, loss=0.0939]\n"
     ]
    },
    {
     "name": "stdout",
     "output_type": "stream",
     "text": [
      "Epoch 44/50:\n",
      "  Train Loss: 0.0939\n",
      "  Val Loss: 0.4828\n",
      "  Mean IoU: 0.2032\n",
      "  Time: 4.97s\n"
     ]
    },
    {
     "name": "stderr",
     "output_type": "stream",
     "text": [
      "Epoch 45/50: 100%|██████████| 14/14 [00:04<00:00,  3.06it/s, loss=0.0922]\n"
     ]
    },
    {
     "name": "stdout",
     "output_type": "stream",
     "text": [
      "Epoch 45/50:\n",
      "  Train Loss: 0.0922\n",
      "  Val Loss: 0.4971\n",
      "  Mean IoU: 0.1909\n",
      "  Time: 5.08s\n"
     ]
    },
    {
     "name": "stderr",
     "output_type": "stream",
     "text": [
      "Epoch 46/50: 100%|██████████| 14/14 [00:04<00:00,  3.14it/s, loss=0.0872]\n"
     ]
    },
    {
     "name": "stdout",
     "output_type": "stream",
     "text": [
      "Epoch 46/50:\n",
      "  Train Loss: 0.0872\n",
      "  Val Loss: 0.2884\n",
      "  Mean IoU: 0.2624\n",
      "  Time: 4.95s\n"
     ]
    },
    {
     "name": "stderr",
     "output_type": "stream",
     "text": [
      "Epoch 47/50: 100%|██████████| 14/14 [00:04<00:00,  3.12it/s, loss=0.0893]\n"
     ]
    },
    {
     "name": "stdout",
     "output_type": "stream",
     "text": [
      "Epoch 47/50:\n",
      "  Train Loss: 0.0893\n",
      "  Val Loss: 0.2414\n",
      "  Mean IoU: 0.2951\n",
      "  Time: 4.95s\n"
     ]
    },
    {
     "name": "stderr",
     "output_type": "stream",
     "text": [
      "Epoch 48/50: 100%|██████████| 14/14 [00:04<00:00,  3.10it/s, loss=0.0863]\n"
     ]
    },
    {
     "name": "stdout",
     "output_type": "stream",
     "text": [
      "Epoch 48/50:\n",
      "  Train Loss: 0.0863\n",
      "  Val Loss: 0.3488\n",
      "  Mean IoU: 0.2366\n",
      "  Time: 4.98s\n"
     ]
    },
    {
     "name": "stderr",
     "output_type": "stream",
     "text": [
      "Epoch 49/50: 100%|██████████| 14/14 [00:04<00:00,  3.17it/s, loss=0.083] \n"
     ]
    },
    {
     "name": "stdout",
     "output_type": "stream",
     "text": [
      "Epoch 49/50:\n",
      "  Train Loss: 0.0830\n",
      "  Val Loss: 0.2293\n",
      "  Mean IoU: 0.2944\n",
      "  Time: 4.89s\n"
     ]
    },
    {
     "name": "stderr",
     "output_type": "stream",
     "text": [
      "Epoch 50/50: 100%|██████████| 14/14 [00:04<00:00,  3.17it/s, loss=0.0794]\n"
     ]
    },
    {
     "name": "stdout",
     "output_type": "stream",
     "text": [
      "Epoch 50/50:\n",
      "  Train Loss: 0.0794\n",
      "  Val Loss: 0.5721\n",
      "  Mean IoU: 0.2177\n",
      "  Time: 4.88s\n",
      "\n",
      "--- Training Metrics Summary from: training_metrics_20250506_230956.csv ---\n",
      "Epoch   | Train Loss   | Val Loss   | Mean IoU   | Time (s)  \n",
      "------------------------------------------------------------\n",
      "1       | 1.2630       | 0.7279     | 0.1710     | 5.55      \n",
      "2       | 0.7370       | 0.6514     | 0.1755     | 4.91      \n",
      "3       | 0.5207       | 0.8100     | 0.2182     | 4.86      \n",
      "4       | 0.4013       | 0.4358     | 0.2527     | 4.77      \n",
      "5       | 0.3264       | 0.3859     | 0.2499     | 4.83      \n",
      "6       | 0.2883       | 0.3329     | 0.2536     | 4.76      \n",
      "7       | 0.2593       | 0.3487     | 0.2110     | 4.82      \n",
      "8       | 0.2349       | 0.3341     | 0.2257     | 4.84      \n",
      "9       | 0.2114       | 0.4452     | 0.1777     | 4.96      \n",
      "10      | 0.2066       | 0.2430     | 0.2757     | 4.84      \n",
      "11      | 0.1939       | 0.2322     | 0.2856     | 4.78      \n",
      "12      | 0.1816       | 0.3456     | 0.1981     | 4.73      \n",
      "13      | 0.1706       | 0.4085     | 0.1805     | 4.98      \n",
      "14      | 0.1747       | 0.2984     | 0.2402     | 4.85      \n",
      "15      | 0.1678       | 0.2509     | 0.2598     | 4.83      \n",
      "16      | 0.1587       | 0.4512     | 0.1866     | 4.99      \n",
      "17      | 0.1521       | 0.4152     | 0.1902     | 5.05      \n",
      "18      | 0.1521       | 0.2266     | 0.2649     | 5.04      \n",
      "19      | 0.1529       | 0.3239     | 0.2357     | 4.86      \n",
      "20      | 0.1575       | 0.6118     | 0.1757     | 4.90      \n",
      "21      | 0.1476       | 0.2606     | 0.2365     | 4.92      \n",
      "22      | 0.1403       | 0.3518     | 0.2540     | 5.11      \n",
      "23      | 0.1431       | 0.4480     | 0.1826     | 5.02      \n",
      "24      | 0.1337       | 0.4373     | 0.2025     | 5.17      \n",
      "25      | 0.1344       | 0.3269     | 0.2568     | 5.08      \n",
      "26      | 0.1302       | 0.2564     | 0.2440     | 5.08      \n",
      "27      | 0.1301       | 0.4206     | 0.2139     | 5.09      \n",
      "28      | 0.1327       | 0.6177     | 0.1891     | 5.02      \n",
      "29      | 0.1283       | 0.2570     | 0.2776     | 5.03      \n",
      "30      | 0.1292       | 0.6196     | 0.1847     | 5.09      \n",
      "31      | 0.1181       | 0.2066     | 0.2917     | 5.05      \n",
      "32      | 0.1231       | 0.5070     | 0.1855     | 5.02      \n",
      "33      | 0.1174       | 0.4753     | 0.2133     | 5.04      \n",
      "34      | 0.1148       | 0.3474     | 0.2473     | 4.91      \n",
      "35      | 0.1135       | 0.2925     | 0.2482     | 4.99      \n",
      "36      | 0.1109       | 0.3336     | 0.2519     | 5.10      \n",
      "37      | 0.1081       | 0.4002     | 0.2403     | 4.94      \n",
      "38      | 0.1061       | 0.7646     | 0.1641     | 5.10      \n",
      "39      | 0.1025       | 0.2841     | 0.2675     | 5.03      \n",
      "40      | 0.1036       | 0.5589     | 0.1833     | 5.06      \n",
      "41      | 0.0998       | 0.3703     | 0.2186     | 5.01      \n",
      "42      | 0.0968       | 0.2827     | 0.2600     | 4.90      \n",
      "43      | 0.0952       | 0.4705     | 0.2224     | 4.86      \n",
      "44      | 0.0939       | 0.4828     | 0.2032     | 4.97      \n",
      "45      | 0.0922       | 0.4971     | 0.1909     | 5.08      \n",
      "46      | 0.0872       | 0.2884     | 0.2624     | 4.95      \n",
      "47      | 0.0893       | 0.2414     | 0.2951     | 4.95      \n",
      "48      | 0.0863       | 0.3488     | 0.2366     | 4.98      \n",
      "49      | 0.0830       | 0.2293     | 0.2944     | 4.89      \n",
      "50      | 0.0794       | 0.5721     | 0.2177     | 4.88      \n"
     ]
    }
   ],
   "source": [
    "def main():\n",
    "    device = torch.device('cuda' if torch.cuda.is_available() else 'cpu')\n",
    "    print(f'Using device: {device}')\n",
    "\n",
    "    transform = transforms.Compose([\n",
    "        transforms.Resize((256, 256)),\n",
    "        transforms.ToTensor(),\n",
    "        transforms.Normalize(mean=[0.485, 0.456, 0.406], std=[0.229, 0.224, 0.225])\n",
    "    ])\n",
    "\n",
    "    train_dataset = SegmentationDataset('dataset/train', transform=transform)\n",
    "    val_dataset = SegmentationDataset('dataset/val', transform=transform)\n",
    "\n",
    "    train_loader = DataLoader(train_dataset, batch_size=8, shuffle=True, num_workers=4)\n",
    "    val_loader = DataLoader(val_dataset, batch_size=8, shuffle=False, num_workers=4)\n",
    "\n",
    "    model = UNet(n_classes=5).to(device)\n",
    "    \n",
    "    criterion = nn.CrossEntropyLoss()\n",
    "    optimizer = optim.Adam(model.parameters(), lr=0.001)\n",
    "\n",
    "    train_model(model, train_loader, val_loader, criterion, optimizer, num_epochs=50, device=device)\n",
    "    print_latest_metrics_table()\n",
    "\n",
    "if __name__ == '__main__':\n",
    "    main() \n",
    "    "
   ]
  }
 ],
 "metadata": {
  "kernelspec": {
   "display_name": "Python 3",
   "language": "python",
   "name": "python3"
  },
  "language_info": {
   "codemirror_mode": {
    "name": "ipython",
    "version": 3
   },
   "file_extension": ".py",
   "mimetype": "text/x-python",
   "name": "python",
   "nbconvert_exporter": "python",
   "pygments_lexer": "ipython3",
   "version": "3.10.12"
  }
 },
 "nbformat": 4,
 "nbformat_minor": 5
}
